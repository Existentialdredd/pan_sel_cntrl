{
 "cells": [
  {
   "cell_type": "code",
   "execution_count": 1,
   "metadata": {
    "collapsed": true
   },
   "outputs": [],
   "source": [
    "## Preamble: Package Loading\n",
    "import numpy as np\n",
    "import ipywidgets as ipw\n",
    "from IPython.display import display\n",
    "import matplotlib.pyplot as plt\n",
    "from matplotlib import gridspec\n",
    "from mpl_toolkits.mplot3d import Axes3D\n",
    "import pandas as pd\n",
    "import itertools as iter\n",
    "import os\n",
    "import datetime as dt\n",
    "import json\n",
    "import re\n",
    "import kernel as kr\n",
    "import regex\n",
    "# Preamble working directory retreival"
   ]
  },
  {
   "cell_type": "markdown",
   "metadata": {},
   "source": [
    "<h2> Function Definitions </h2>\n",
    "\n",
    "The following set of functions are necessary to for the display and comparision of generated results. Scroll down for those results."
   ]
  },
  {
   "cell_type": "markdown",
   "metadata": {},
   "source": [
    "<h3> Function Definitions: Data Loading Function </h3>"
   ]
  },
  {
   "cell_type": "code",
   "execution_count": 47,
   "metadata": {
    "collapsed": true
   },
   "outputs": [],
   "source": [
    "def psc_load(input_filename):\n",
    "    \"\"\"\n",
    "INPUTS\n",
    "input_filename        (string) short filename for estimates of coefficients\n",
    "\n",
    "OUTPUT\n",
    "out                   (list) of the following elements \n",
    "  out[0]              (dict) estimator input dictionary\n",
    "  out[1]              (df) estimates of each beta coeff\n",
    "  out[2]              (df) summary of beta coeff estimates\n",
    "  out[3]              (list of df's) estimates of each alpha coeff\n",
    "  out[4]              (list of df's) summary of alpha coeff estimates\n",
    "    \"\"\"\n",
    "    \n",
    "    # Google Folder with estimation data\n",
    "    output_folder = './est_out/'\n",
    "    # Constructing the full data file name\n",
    "    input_file_full = ''.join([output_folder,input_filename])\n",
    "    # Loading the json\n",
    "    with open(input_file_full) as f_obj: \n",
    "        pscdata = json.load(f_obj)\n",
    "    # Extracting the estimator input dictionary\n",
    "    inpt_dic = pscdata[0]\n",
    "    # Extracting Centered beta estimates \n",
    "    bt_rs = pscdata[1]\n",
    "    # df construction\n",
    "    bt_df = pd.DataFrame(bt_rs['beta_cntrd'] ).T\n",
    "    # Adding variable names\n",
    "    bt_df.columns = bt_rs['beta_sum_row']\n",
    "    # Extracting beta summary information\n",
    "    bt_sm = pd.DataFrame(bt_rs['beta_sum_dat']).T\n",
    "    # Adding row bias,variance,mse names\n",
    "    bt_sm.columns = bt_rs['beta_sum_row']\n",
    "    # Adding variable names\n",
    "    bt_sm.index = bt_rs['beta_sum_clmn']\n",
    "    # Extracting Centered alpha estimates \n",
    "    al_rs = pscdata[2]\n",
    "    # df Construction\n",
    "    al_ldf = [pd.DataFrame(al_rs['alpha_cntrd'][j]).T  \n",
    "              for j in range(len(al_rs['alpha_cntrd']))]\n",
    "    # Extracting  alpha summary information\n",
    "    al_sm = [pd.DataFrame(al_rs['alpha_sum_dat'][j]).T  \n",
    "             for j in range(len(al_rs['alpha_sum_dat']))]\n",
    "    # Adding variable names and row names to df and summary df\n",
    "    for j in range(len(al_rs['alpha_sum_dat'])):\n",
    "        al_ldf[j].columns = al_rs['alpha_sum_row'][j]\n",
    "        al_sm[j].columns = al_rs['alpha_sum_row'][j]\n",
    "        al_sm[j].index= al_rs['alpha_sum_clmn']\n",
    "    # Collecting into output list\n",
    "    out = [inpt_dic, bt_df, bt_sm, al_ldf, al_sm]\n",
    "    return out"
   ]
  },
  {
   "cell_type": "markdown",
   "metadata": {},
   "source": [
    "<h3>  Function Definitions: DGP Summary Dictionaries Loading Function </h3>"
   ]
  },
  {
   "cell_type": "code",
   "execution_count": 48,
   "metadata": {
    "collapsed": true
   },
   "outputs": [],
   "source": [
    "def pscsum_load(input_filename):\n",
    "    \"\"\"\n",
    "INPUTS\n",
    "input_filename        (string) short filename for summary of dgp\n",
    "\n",
    "OUTPUTS\n",
    "out                   (list of lists) of the following elements    \n",
    "  out[0]                (dict) Input dictionary for data set generation\n",
    "  out[1]                (df) True beta coefficients \n",
    "  out[2]                (df) True alpha coefficients\n",
    "    \"\"\"\n",
    "    \n",
    "    # Google folder with dgp data\n",
    "    data_folder = './data_sum/'\n",
    "    # Full filename for the dgp summary\n",
    "    data_file_full = ''.join([data_folder,input_filename])\n",
    "    # Loading the json\n",
    "    with open(data_file_full) as f_obj: \n",
    "        pscdata = json.load(f_obj)\n",
    "    # Extracting the data set dgp dictionary\n",
    "    inpt_dict = pscdata[0]\n",
    "    # Names of primary coefficients\n",
    "    pcoeff_nms = ([ ''.join(['$\\\\beta_{',str(1),',',str(i+1),'}$']) \n",
    "                        for i in range(pscdata[0]['n_end'])]\n",
    "                  + [''.join(['$\\\\beta_{',str(2),',',str(i+1),'}$']) \n",
    "                        for i in range(pscdata[0]['n_exo'])])\n",
    "    # Extracting the true primary coefficients\n",
    "    pcoeff = pd.DataFrame(pscdata[1]['pcoeff']).T\n",
    "    # Adding names of each primary coefficient\n",
    "    pcoeff.columns = pcoeff_nms\n",
    "    # Names of alpha coefficients\n",
    "    coeff_nms = [([ ''.join(['$\\\\alpha_{',str(j+1),str(1),',',str(i+1),'}$']) \n",
    "                       for i in range(pscdata[0]['n_exo'])]\n",
    "                  + [''.join(['$\\\\alpha_{',str(j+1),str(2),',',str(i+1),'}$']) \n",
    "                       for i in range(pscdata[0]['t_inst'])]) \n",
    "                 for j in range(pscdata[0]['n_end'])]\n",
    "    # Adding name of each alpha coefficient\n",
    "    coeff = [pd.DataFrame(pscdata[1]['coeff'][i],columns = coeff_nms[i]) \n",
    "                        for i in range(len(pscdata[1]['coeff']))]\n",
    "    # Constructing the out put dictionary\n",
    "    out = [inpt_dict , pcoeff , coeff ]\n",
    "    \n",
    "    return out"
   ]
  },
  {
   "cell_type": "markdown",
   "metadata": {},
   "source": [
    "<h3>  Function Definitions: Density Plotting Function </h3>"
   ]
  },
  {
   "cell_type": "code",
   "execution_count": 49,
   "metadata": {
    "collapsed": true
   },
   "outputs": [],
   "source": [
    "def coeffden(coeff,line_nms,x_lm,y_lm,c_h,w,n_eqn,s_eqn):\n",
    "    \"\"\"\n",
    "INPUTS\n",
    "ceoff            (list of df's)  input data\n",
    "line_nms         (list of strings) legend entry names\n",
    "x_lm             (list of int) lower and upper x limits of the plot\n",
    "y_lm             (int) upper y limit of the plot\n",
    "c_h              (int) Constant in plug in bandwidth calculation\n",
    "w                (int) plotted variable column number \n",
    "n_eqn            (int) number of equations per cross section\n",
    "s_eqn            (int) indicator for which equation to plot\n",
    "\n",
    "OUTPUTS\n",
    "out              (plot) density plot             \n",
    "    \"\"\"\n",
    "    # Number of data set different run data sets in coeff\n",
    "    nds = len(coeff)\n",
    "    # Resetting coefficient number to index number\n",
    "    w = w-1\n",
    "    # Resetting equation number to index number\n",
    "    s_eqn = s_eqn-1\n",
    "    # Extracting the coefficient for the correct equation number\n",
    "    if n_eqn > 1:\n",
    "        coeff = [coeff[i][s_eqn] for i in range(nds)]\n",
    "    # Extracting the number of coeffients \n",
    "    ncfs = coeff[0].shape[0]\n",
    "    # Closing all open plots in current cell \n",
    "    plt.close('all')\n",
    "    # Converting to np arrary and sorting the values in coeff\n",
    "    a = [ np.sort(coeff[i].iloc[:,w].values,axis = 0) for i in range(nds) ] \n",
    "    # Caluculating plug in bandwidths\n",
    "    h = [ c_h*ncfs**(-1/5)*np.std(a[i]) for i in range(nds)]\n",
    "    # Calculating the density of sorted coefficients\n",
    "    aden = [ kr.mvden(a[i],a[i],h[i],9).reshape(ncfs,1) for i in range(nds) ]\n",
    "    # The rest plotting with matplotlib\n",
    "    f,ax = plt.subplots()\n",
    "    f.set_figheight(7)\n",
    "    f.set_figwidth(15)\n",
    "    ax.set_xlim((x_lm[0],x_lm[1]))\n",
    "    ax.set_ylim((0,y_lm))\n",
    "    for i in range(nds):\n",
    "        ax.plot(a[i],aden[i])\n",
    "    ax.legend(line_nms)\n",
    "    ax.grid(which = 'both')\n",
    "    ax.set_title(''.join(['Distribution of Estimated ',coeff[0].columns[w]]))\n",
    "    plt.show()"
   ]
  },
  {
   "cell_type": "markdown",
   "metadata": {},
   "source": [
    "<h3>  Function Definitions: Interactive Plot and Tables Display Function </h3>"
   ]
  },
  {
   "cell_type": "code",
   "execution_count": 50,
   "metadata": {
    "collapsed": true,
    "scrolled": false
   },
   "outputs": [],
   "source": [
    "def tbl_dsp(tables,n_eqn,s_eqn,line_nms):\n",
    "    \"\"\"\n",
    "INPUTS \n",
    "tables           (list of df's)  summary table's\n",
    "line_nms         (list of strings) case number names\n",
    "n_eqn            (int) number of equations per cross section\n",
    "s_eqn            (int) indicator for which equation's table to output\n",
    "\n",
    "OUTPUTS\n",
    "A number of summary tables displayed\n",
    "\n",
    "    \"\"\"\n",
    "    # Shifting the value of the indicator to match index\n",
    "    s_eqn = s_eqn-1\n",
    "    # Outputing Tables\n",
    "    if n_eqn > 1:\n",
    "        for j in range(len(tables)):\n",
    "            display(tables[j][s_eqn])\n",
    "            display(''.join(['Case ', str(j+1),':', line_nms[j]]))\n",
    "    elif n_eqn == 1:\n",
    "        for j in range(len(tables)):\n",
    "            display(tables[j])\n",
    "            display(''.join(['Case ', str(j+1),':', line_nms[j]]))\n",
    "\n",
    "def cfs_dsp(coeff,tables,n_eqn,y_lm,line_nms):\n",
    "    \"\"\"\n",
    "INPUTS\n",
    "tables           (list of df's)  summary table's\n",
    "ceoff            (list of df's)  input data\n",
    "line_nms         (list of strings) legend entry names\n",
    "y_lm             (int) upper y limit of the plot\n",
    "\n",
    "OUTPUTS\n",
    "Plot and Tables Displayed with interactive widgets\n",
    "    \n",
    "    \"\"\"\n",
    "    # Layout of each widget\n",
    "    box_hlayout = ipw.Layout(display='flex',flex_flow='row',align_items='stretch'\n",
    "                             ,width='95%')\n",
    "    if n_eqn == 1:\n",
    "        # Coefficient selection widget\n",
    "        coeff_sel = ipw.IntSlider( min = 1 , max = coeff[0].shape[1], value = 1, step = 1\n",
    "                             , description = 'Coefficient:'\n",
    "                              ,width = 'auto',layout = box_hlayout\n",
    "                              ,style = {'description_width': 'initial'})\n",
    "    elif n_eqn > 1: \n",
    "        # Coefficient selection widget\n",
    "        coeff_sel = ipw.IntSlider( min = 1 , max = coeff[0][0].shape[1], value = 1, step = 1\n",
    "                              , description = 'Coefficient:'\n",
    "                              ,width = 'auto',layout = box_hlayout\n",
    "                              ,style = {'description_width': 'initial'})\n",
    "    # Equation selection widget  \n",
    "    eqn_sel = ipw.IntSlider( min = 1 , max = n_eqn, value = 1, step = 1\n",
    "                              ,description = 'Equation:'\n",
    "                              ,width = 'auto',layout = box_hlayout\n",
    "                              ,style = {'description_width': 'initial'})\n",
    "    # PU bandwidth constant selection widget\n",
    "    ch_sel = ipw.FloatSlider(min = 0.1 , max = 3, value = 2.5, step =0.2\n",
    "                              ,description = 'Bandwidth Constant'\n",
    "                              ,width = 'auto',layout = box_hlayout\n",
    "                              ,style = {'description_width': 'initial'})\n",
    "    # Horizontal display range slider widget\n",
    "    xlim_sel = ipw.FloatRangeSlider( value=[-0.4, 0.4], min=-0.5,max=0.5, step=0.05\n",
    "                                    ,description='x limits:'\n",
    "                                    ,disabled=False ,continuous_update=False\n",
    "                                    ,orientation='horizontal',readout=True \n",
    "                                    ,readout_format='.1f',width = 'auto'\n",
    "                                    ,layout=box_hlayout\n",
    "                                    ,style = {'description_width': 'initial'}) \n",
    "    # Interactive call of density function plot\n",
    "    coeff_out =  ipw.interactive_output(coeffden ,{'coeff': ipw.fixed(coeff)\n",
    "                                                 ,'line_nms': ipw.fixed(line_nms)\n",
    "                                                 ,'x_lm': xlim_sel, 'y_lm': ipw.fixed(y_lm)\n",
    "                                                 ,'c_h': ch_sel,'w': coeff_sel\n",
    "                                                 ,'n_eqn': ipw.fixed(n_eqn)\n",
    "                                                 ,'s_eqn': eqn_sel})\n",
    "    # Interactive call of table display function\n",
    "    table_out = ipw.interactive_output(tbl_dsp,{'tables': ipw.fixed(tables)\n",
    "                                                ,'n_eqn': ipw.fixed(n_eqn)\n",
    "                                                ,'s_eqn': eqn_sel\n",
    "                                                ,'line_nms': ipw.fixed(line_nms)} )\n",
    "    # Return of the constructed block with widgetes and tables.\n",
    "    return ipw.VBox([table_out,coeff_out,coeff_sel,ch_sel,xlim_sel,eqn_sel])"
   ]
  },
  {
   "cell_type": "markdown",
   "metadata": {},
   "source": [
    "<h3>  Function Definitions: Input Dictionary Display Function </h3>"
   ]
  },
  {
   "cell_type": "code",
   "execution_count": 51,
   "metadata": {
    "collapsed": true
   },
   "outputs": [],
   "source": [
    "def indict_dsp(inpt,depth):\n",
    "    \"\"\" \n",
    "INPUTS\n",
    "inpt            (list of (lists) of dicts) diction\n",
    "depth           (int) number of df \n",
    "\n",
    "OUTPUTS\n",
    "displayed df's with widgets\n",
    "    \n",
    "    \"\"\"\n",
    "    w_sel = ipw.IntSlider( min = 1 , max = len(inpt), value = 1, step = 1\n",
    "                                 , description = 'Results Dataset: '\n",
    "                                  ,width = 'auto', style = {'description_width': 'initial'})\n",
    "    d_sel = ipw.IntSlider( min = 1 , max = depth , value = 1, step = 1\n",
    "                                 , description = 'Equation: '\n",
    "                                  ,width = 'auto', style = {'description_width': 'initial'})\n",
    "    def in_dcts_dsp(in_dcts,depth,w,d):\n",
    "        if depth == 1:\n",
    "            display(in_dcts[w-1])\n",
    "        elif depth > 1:\n",
    "            display(in_dcts[w-1][d-1])\n",
    "            \n",
    "    dict_out = ipw.interactive_output(in_dcts_dsp,{'in_dcts': ipw.fixed(inpt),'w': w_sel })\n",
    "    \n",
    "    if depth == 1:\n",
    "        dict_out = ipw.interactive_output(in_dcts_dsp,{'in_dcts': ipw.fixed(inpt)\n",
    "                                                       ,'w': w_sel \n",
    "                                                       ,'depth': ipw.fixed(depth)\n",
    "                                                       ,'d': ipw.fixed(1)})\n",
    "        bx = ipw.VBox([w_sel,dict_out])\n",
    "    elif depth > 1:\n",
    "        dict_out = ipw.interactive_output(in_dcts_dsp,{'in_dcts': ipw.fixed(inpt),'w': w_sel \n",
    "                                                       ,'depth': ipw.fixed(depth),'d': d_sel})\n",
    "        bx =ipw.VBox([d_sel,w_sel,dict_out])\n",
    "        \n",
    "    return bx"
   ]
  },
  {
   "cell_type": "markdown",
   "metadata": {},
   "source": [
    "<h2>Trial Set 1: Varying Number of Time Periods </h2> "
   ]
  },
  {
   "cell_type": "markdown",
   "metadata": {},
   "source": [
    "<h3> Trial Set 1: Data Loading and Organization </h3> "
   ]
  },
  {
   "cell_type": "code",
   "execution_count": 52,
   "metadata": {
    "collapsed": true
   },
   "outputs": [],
   "source": [
    "inpt_filenames0 = ['pscout_6_12_1954.json' ,'pscout_6_12_1220.json' , 'pscout_6_12_1799.json']\n",
    "line_nms0 = ['n=30', 'n=50' ,'n=70']\n",
    "\n",
    "res_out0 = [psc_load(inpt_filenames0[i]) for i in range(len(inpt_filenames0))]\n",
    "estin_dcts0 = [res_out0[i][0] for i in range(len(inpt_filenames0))]\n",
    "dgp_sum_filenames0 = [ estin_dcts0[i]['input_filename'].replace('pscdata','pscsum')\n",
    "                      for i in range(len(inpt_filenames0))]\n",
    "dgp_dicts0 = [pscsum_load(dgp_sum_filenames0[i]) \n",
    "             for i in range(len(dgp_sum_filenames0))]\n",
    "dgpin_dcts0 =  [dgp_dicts0[i][0] for i in range(len(inpt_filenames0))]\n",
    "merged_dcts0 = [{**estin_dcts0[i],**dgpin_dcts0[i]} for i in range(len(inpt_filenames0))]\n",
    "true_bcoeffs0 = [dgp_dicts0[i][1] for i in range(len(inpt_filenames0))]\n",
    "true_acoeffs0 = [dgp_dicts0[i][2] for i in range(len(inpt_filenames0))]\n",
    "bcoeff0  = [res_out0[i][1] for i in range(len(inpt_filenames0))]\n",
    "acoeff0  = [res_out0[i][3] for i in range(len(inpt_filenames0))]\n",
    "btables0 = [res_out0[i][2] for i in range(len(inpt_filenames0))]\n",
    "atables0 = [res_out0[i][4] for i in range(len(inpt_filenames0))]"
   ]
  },
  {
   "cell_type": "markdown",
   "metadata": {},
   "source": [
    "<h3> Trial Set 1: Merged DGP and Estimator Function Input Dictionary Comparison </h3> "
   ]
  },
  {
   "cell_type": "code",
   "execution_count": 8,
   "metadata": {
    "scrolled": false
   },
   "outputs": [
    {
     "data": {
      "application/vnd.jupyter.widget-view+json": {
       "model_id": "bcebf973d15b47c29baa472eb4bedc23",
       "version_major": 2,
       "version_minor": 0
      },
      "text/plain": [
       "VBox(children=(IntSlider(value=1, description='Results Dataset: ', max=3, min=1, style=SliderStyle(description…"
      ]
     },
     "metadata": {},
     "output_type": "display_data"
    }
   ],
   "source": [
    "indict_dsp(merged_dcts0,1 )"
   ]
  },
  {
   "cell_type": "markdown",
   "metadata": {},
   "source": [
    "<h3> Trial Set 1: True Primary Equations Coefficients Comparison </h3>"
   ]
  },
  {
   "cell_type": "code",
   "execution_count": 9,
   "metadata": {
    "scrolled": true
   },
   "outputs": [
    {
     "data": {
      "application/vnd.jupyter.widget-view+json": {
       "model_id": "dac831cbc4d64e46abc4cf03b05cf66b",
       "version_major": 2,
       "version_minor": 0
      },
      "text/plain": [
       "VBox(children=(IntSlider(value=1, description='Results Dataset: ', max=3, min=1, style=SliderStyle(description…"
      ]
     },
     "metadata": {},
     "output_type": "display_data"
    }
   ],
   "source": [
    "indict_dsp(true_bcoeffs0,1)"
   ]
  },
  {
   "cell_type": "markdown",
   "metadata": {},
   "source": [
    "<h3> Trial Set 1: True Secondary Equation Coefficients Comparison </h3> "
   ]
  },
  {
   "cell_type": "code",
   "execution_count": 10,
   "metadata": {
    "scrolled": true
   },
   "outputs": [
    {
     "data": {
      "application/vnd.jupyter.widget-view+json": {
       "model_id": "fd1b44f3fb6441789cf983aed30a4ecf",
       "version_major": 2,
       "version_minor": 0
      },
      "text/plain": [
       "VBox(children=(IntSlider(value=1, description='Equation: ', max=2, min=1, style=SliderStyle(description_width=…"
      ]
     },
     "metadata": {},
     "output_type": "display_data"
    }
   ],
   "source": [
    "indict_dsp(true_acoeffs0,2)"
   ]
  },
  {
   "cell_type": "markdown",
   "metadata": {},
   "source": [
    "<h3> Trial Set 1: Primary Function Coefficient Estimates </h3>"
   ]
  },
  {
   "cell_type": "code",
   "execution_count": 11,
   "metadata": {
    "scrolled": false
   },
   "outputs": [
    {
     "data": {
      "application/vnd.jupyter.widget-view+json": {
       "model_id": "766e613d39664eb5b0ba25fd1ad07d37",
       "version_major": 2,
       "version_minor": 0
      },
      "text/plain": [
       "VBox(children=(Output(), Output(), IntSlider(value=1, description='Coefficient:', layout=Layout(align_items='s…"
      ]
     },
     "metadata": {},
     "output_type": "display_data"
    }
   ],
   "source": [
    "display(cfs_dsp(bcoeff0,btables0,1,12,line_nms0))"
   ]
  },
  {
   "cell_type": "markdown",
   "metadata": {},
   "source": [
    "<h3> Trial Set 1: Secondary Function Coefficient Estimates </h3>"
   ]
  },
  {
   "cell_type": "code",
   "execution_count": 12,
   "metadata": {},
   "outputs": [
    {
     "data": {
      "application/vnd.jupyter.widget-view+json": {
       "model_id": "471186b8bb3f41f6b5e57e091cfade37",
       "version_major": 2,
       "version_minor": 0
      },
      "text/plain": [
       "VBox(children=(Output(), Output(), IntSlider(value=1, description='Coefficient:', layout=Layout(align_items='s…"
      ]
     },
     "metadata": {},
     "output_type": "display_data"
    }
   ],
   "source": [
    "display(cfs_dsp(acoeff0,atables0,2,5,line_nms0))"
   ]
  },
  {
   "cell_type": "markdown",
   "metadata": {},
   "source": [
    "<h2> Trial Set 2: Varying the number of crossections </h2>"
   ]
  },
  {
   "cell_type": "markdown",
   "metadata": {},
   "source": [
    "<h3> Trial Set 2: Data Loading and Organization </h3> "
   ]
  },
  {
   "cell_type": "code",
   "execution_count": 21,
   "metadata": {
    "collapsed": true
   },
   "outputs": [],
   "source": [
    "inpt_filenames1 = ['pscout_6_12_1220.json' ,'pscout_6_13_1914.json'\n",
    "                   ,'pscout_6_13_1498.json','pscout_6_13_1227.json' ]\n",
    "line_nms1 = ['ncr = 5','ncr = 10', 'ncr = 15', 'ncr = 20']\n",
    "\n",
    "res_out1 = [psc_load(inpt_filenames1[i]) for i in range(len(inpt_filenames1))]\n",
    "estin_dcts1 = [res_out1[i][0] for i in range(len(inpt_filenames1))]\n",
    "dgp_sum_filenames1 = [ estin_dcts1[i]['input_filename'].replace('pscdata','pscsum')\n",
    "                      for i in range(len(inpt_filenames1))]\n",
    "dgp_dicts1 = [pscsum_load(dgp_sum_filenames1[i]) \n",
    "             for i in range(len(dgp_sum_filenames1))]\n",
    "merged_dcts1 = [{**estin_dcts0[i],**dgpin_dcts0[i]} for i in range(len(inpt_filenames0))]\n",
    "dgpin_dcts1 =  [dgp_dicts1[i][0] for i in range(len(inpt_filenames1))]\n",
    "true_bcoeffs1 = [dgp_dicts1[i][1] for i in range(len(inpt_filenames1))]\n",
    "true_acoeffs1 = [dgp_dicts1[i][2] for i in range(len(inpt_filenames1))]\n",
    "bcoeff1  = [res_out1[i][1] for i in range(len(inpt_filenames1))]\n",
    "acoeff1  = [res_out1[i][3] for i in range(len(inpt_filenames1))]\n",
    "btables1 = [res_out1[i][2] for i in range(len(inpt_filenames1))]\n",
    "atables1 = [res_out1[i][4] for i in range(len(inpt_filenames1))]"
   ]
  },
  {
   "cell_type": "markdown",
   "metadata": {},
   "source": [
    "<h3> Trial Set 2: DGP and Estimator Function Input Dictionary Comparison </h3> "
   ]
  },
  {
   "cell_type": "code",
   "execution_count": 22,
   "metadata": {
    "scrolled": false
   },
   "outputs": [
    {
     "data": {
      "application/vnd.jupyter.widget-view+json": {
       "model_id": "5b16805131d0453395854f95e9531ad5",
       "version_major": 2,
       "version_minor": 0
      },
      "text/plain": [
       "VBox(children=(IntSlider(value=1, description='Results Dataset: ', max=3, min=1, style=SliderStyle(description…"
      ]
     },
     "metadata": {},
     "output_type": "display_data"
    }
   ],
   "source": [
    "indict_dsp(merged_dcts1,1)"
   ]
  },
  {
   "cell_type": "markdown",
   "metadata": {},
   "source": [
    "<h3> Trial Set 2: True Primary Equations Coefficients Comparison </h3>"
   ]
  },
  {
   "cell_type": "code",
   "execution_count": 16,
   "metadata": {
    "scrolled": true
   },
   "outputs": [
    {
     "data": {
      "application/vnd.jupyter.widget-view+json": {
       "model_id": "f05cea3e36c2446a8b6f8a208a98c001",
       "version_major": 2,
       "version_minor": 0
      },
      "text/plain": [
       "VBox(children=(IntSlider(value=1, description='Results Dataset: ', max=4, min=1, style=SliderStyle(description…"
      ]
     },
     "metadata": {},
     "output_type": "display_data"
    }
   ],
   "source": [
    "indict_dsp(true_bcoeffs1,1)"
   ]
  },
  {
   "cell_type": "markdown",
   "metadata": {},
   "source": [
    "<h3> Trial Set 2: True Secondary Equation Coefficients Comparison </h3> "
   ]
  },
  {
   "cell_type": "code",
   "execution_count": 17,
   "metadata": {
    "scrolled": false
   },
   "outputs": [
    {
     "data": {
      "application/vnd.jupyter.widget-view+json": {
       "model_id": "2cd68332d96947f296a6db226e7069ed",
       "version_major": 2,
       "version_minor": 0
      },
      "text/plain": [
       "VBox(children=(IntSlider(value=1, description='Equation: ', max=2, min=1, style=SliderStyle(description_width=…"
      ]
     },
     "metadata": {},
     "output_type": "display_data"
    }
   ],
   "source": [
    "indict_dsp(true_acoeffs1,2)"
   ]
  },
  {
   "cell_type": "markdown",
   "metadata": {},
   "source": [
    "<h3> Trial Set 2: Primary Function Coefficient Estimates </h3>"
   ]
  },
  {
   "cell_type": "code",
   "execution_count": 18,
   "metadata": {
    "scrolled": false
   },
   "outputs": [
    {
     "data": {
      "application/vnd.jupyter.widget-view+json": {
       "model_id": "a5a1714511984b879a00b5d79efa0c72",
       "version_major": 2,
       "version_minor": 0
      },
      "text/plain": [
       "VBox(children=(Output(), Output(), IntSlider(value=1, description='Coefficient:', layout=Layout(align_items='s…"
      ]
     },
     "metadata": {},
     "output_type": "display_data"
    }
   ],
   "source": [
    "display(cfs_dsp(bcoeff1,btables1,1,12,line_nms1))"
   ]
  },
  {
   "cell_type": "markdown",
   "metadata": {},
   "source": [
    "<h3> Trial Set 2: Secondary Function Coefficient Estimates </h3>"
   ]
  },
  {
   "cell_type": "code",
   "execution_count": 19,
   "metadata": {},
   "outputs": [
    {
     "data": {
      "application/vnd.jupyter.widget-view+json": {
       "model_id": "3de2a9bf53bd4261aa075db66b6bf10e",
       "version_major": 2,
       "version_minor": 0
      },
      "text/plain": [
       "VBox(children=(Output(), Output(), IntSlider(value=1, description='Coefficient:', layout=Layout(align_items='s…"
      ]
     },
     "metadata": {},
     "output_type": "display_data"
    }
   ],
   "source": [
    "display(cfs_dsp(acoeff1,atables1,2,8,line_nms1))"
   ]
  },
  {
   "cell_type": "code",
   "execution_count": null,
   "metadata": {
    "collapsed": true
   },
   "outputs": [],
   "source": []
  }
 ],
 "metadata": {
  "kernelspec": {
   "display_name": "Python 3",
   "language": "python",
   "name": "python3"
  },
  "language_info": {
   "codemirror_mode": {
    "name": "ipython",
    "version": 3
   },
   "file_extension": ".py",
   "mimetype": "text/x-python",
   "name": "python",
   "nbconvert_exporter": "python",
   "pygments_lexer": "ipython3",
   "version": "3.6.3"
  },
  "varInspector": {
   "cols": {
    "lenName": 16,
    "lenType": 16,
    "lenVar": 40
   },
   "kernels_config": {
    "python": {
     "delete_cmd_postfix": "",
     "delete_cmd_prefix": "del ",
     "library": "var_list.py",
     "varRefreshCmd": "print(var_dic_list())"
    },
    "r": {
     "delete_cmd_postfix": ") ",
     "delete_cmd_prefix": "rm(",
     "library": "var_list.r",
     "varRefreshCmd": "cat(var_dic_list()) "
    }
   },
   "types_to_exclude": [
    "module",
    "function",
    "builtin_function_or_method",
    "instance",
    "_Feature"
   ],
   "window_display": false
  }
 },
 "nbformat": 4,
 "nbformat_minor": 2
}
