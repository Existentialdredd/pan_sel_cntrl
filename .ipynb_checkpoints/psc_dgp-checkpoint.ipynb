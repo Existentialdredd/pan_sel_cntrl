{
 "cells": [
  {
   "cell_type": "code",
   "execution_count": 127,
   "metadata": {},
   "outputs": [],
   "source": [
    "## Preamble: Package Loading\n",
    "import numpy as np\n",
    "import matplotlib.pyplot as plt\n",
    "from matplotlib import gridspec\n",
    "from mpl_toolkits.mplot3d import Axes3D\n",
    "import pandas as pd\n",
    "import itertools as iter\n",
    "import math"
   ]
  },
  {
   "cell_type": "markdown",
   "metadata": {},
   "source": [
    "<h4> Block Diagonal Matrix Function </h4>"
   ]
  },
  {
   "cell_type": "code",
   "execution_count": 2,
   "metadata": {},
   "outputs": [],
   "source": [
    "def blkdiag(mat,nb):\n",
    "    \"\"\"\n",
    "INPUTS\n",
    "mat     Square Matrix which will form the block in a block diagonal matrix\n",
    "nb      Number of diagonal block in output matrix \n",
    "\n",
    "OUTPUT\n",
    "v       Block diagonal matrix of dimension ( nb*mat.shape[0] x nb*mat.shape[0] )\n",
    "    \"\"\"\n",
    "    # Initializing the varcov matrix for all crosssections\n",
    "    v = np.hstack((mat,np.zeros((mat.shape[0],(nb-1)*(mat.shape[1])))))\n",
    "    # Registry matrix used in following loops\n",
    "    vreg = np.eye(nb-1)\n",
    "    for j in np.arange(nb-1):\n",
    "        # Initializing current block of rows \n",
    "        pv = np.zeros((mat.shape[0],mat.shape[0]))\n",
    "        # Horiz Stacking either zeros or var_err depending on ve_reg[j,i]\n",
    "        for i in np.arange(nb-1):\n",
    "            if vreg[j,i] == 1: # Stack var_err onto pv_err\n",
    "                pv = np.hstack((pv,mat))\n",
    "            if vreg[j,i] == 0: # Stack zeros onto pv_err\n",
    "                pv = np.hstack((pv,np.zeros((mat.shape[0],mat.shape[0]))))\n",
    "        # Vertically stacking block rows on top of one another\n",
    "        v = np.vstack((v,pv))\n",
    "    return v"
   ]
  },
  {
   "cell_type": "markdown",
   "metadata": {},
   "source": [
    "#### Block Diagonal Matrix Function Demonstration"
   ]
  },
  {
   "cell_type": "code",
   "execution_count": 3,
   "metadata": {},
   "outputs": [
    {
     "data": {
      "text/plain": [
       "array([[ 1.,  1.,  1.,  0.,  0.,  0.,  0.,  0.,  0.,  0.,  0.,  0.],\n",
       "       [ 1.,  1.,  1.,  0.,  0.,  0.,  0.,  0.,  0.,  0.,  0.,  0.],\n",
       "       [ 1.,  1.,  1.,  0.,  0.,  0.,  0.,  0.,  0.,  0.,  0.,  0.],\n",
       "       [ 0.,  0.,  0.,  1.,  1.,  1.,  0.,  0.,  0.,  0.,  0.,  0.],\n",
       "       [ 0.,  0.,  0.,  1.,  1.,  1.,  0.,  0.,  0.,  0.,  0.,  0.],\n",
       "       [ 0.,  0.,  0.,  1.,  1.,  1.,  0.,  0.,  0.,  0.,  0.,  0.],\n",
       "       [ 0.,  0.,  0.,  0.,  0.,  0.,  1.,  1.,  1.,  0.,  0.,  0.],\n",
       "       [ 0.,  0.,  0.,  0.,  0.,  0.,  1.,  1.,  1.,  0.,  0.,  0.],\n",
       "       [ 0.,  0.,  0.,  0.,  0.,  0.,  1.,  1.,  1.,  0.,  0.,  0.],\n",
       "       [ 0.,  0.,  0.,  0.,  0.,  0.,  0.,  0.,  0.,  1.,  1.,  1.],\n",
       "       [ 0.,  0.,  0.,  0.,  0.,  0.,  0.,  0.,  0.,  1.,  1.,  1.],\n",
       "       [ 0.,  0.,  0.,  0.,  0.,  0.,  0.,  0.,  0.,  1.,  1.,  1.]])"
      ]
     },
     "execution_count": 3,
     "metadata": {},
     "output_type": "execute_result"
    }
   ],
   "source": [
    "blkdiag(np.ones((3,3)),4)"
   ]
  },
  {
   "cell_type": "markdown",
   "metadata": {},
   "source": [
    "<h3> DGP Inputs </h3>"
   ]
  },
  {
   "cell_type": "code",
   "execution_count": 96,
   "metadata": {},
   "outputs": [],
   "source": [
    "\n",
    "# Setting a Seed\n",
    "np.random.seed([10])\n",
    "\n",
    "# Number of Time Periods\n",
    "ntp = 10\n",
    "# Number of Cross-Sections\n",
    "ncs = 3\n",
    "# Number of Endogenous Variables in Primary Equation\n",
    "n_end = 2\n",
    "# Number of Endogenous Variables in Primary Equation\n",
    "n_exo = 2\n",
    "# Total Number of Instruments\n",
    "t_inst = 10\n",
    "# Number of Instruments per Crossection\n",
    "c_inst = 3\n",
    "# Indicator for whether to force additive non linear cntrl function. 1 = yes \n",
    "frc = 0\n",
    "\n",
    "# Vector of exog off diagonal covariances i.e. cov(Z2t_l,Z2t_(l+j)) = ex_vpro[j-1]\n",
    "ex_vpro = [0.5]\n",
    "# Vector of inst off diagonal covariances i.e. cov(Wt_l,Wt_(l+j)) = inst_vpro[j-1]\n",
    "inst_vpro = [0.5 , 0.25 ]\n",
    "# Vector of error off diagonal covariances i.e. cov(Wt_l,Wt_(l+j)) = inst_vpro[j-1]\n",
    "err_vpro = [0.8 , 0.36 ]"
   ]
  },
  {
   "cell_type": "markdown",
   "metadata": {},
   "source": [
    "<h2> DGP Generation Code </h2>"
   ]
  },
  {
   "cell_type": "code",
   "execution_count": 227,
   "metadata": {},
   "outputs": [],
   "source": [
    "\n",
    "# Collection of all Coefficients on Instruments \n",
    "icoeffs_reg = list(iter.product([-1,1],repeat = c_inst))\n",
    "# Collection of all Coefficients on Exogenous Variables\n",
    "excoeffs_reg = list(iter.product([-1,1],repeat = n_exo))\n",
    "# Registry of instrument assignments\n",
    "insts_reg = list(iter.combinations(np.arange(1,t_inst+1),c_inst))\n",
    "# Iterator for instrument coefficients\n",
    "lpw_iter = [(x,y) for y in np.arange(1,len(icoeffs_reg)+1) for x in np.arange(1,len(insts_reg)+1)]\n",
    "# Iterator for exogenous variables coefficients\n",
    "lpz_iter = []\n",
    "for x in np.arange(1,np.ceil(ncs/4)+1): \n",
    "    for y in [0,1,2,3] : lpz_iter.append(y)\n",
    "\n",
    "# Initializing the full coefficient matrix\n",
    "#coeffs = np.zeros((ncs,n_exo+t_inst))\n",
    "\n",
    "# List of which instruments (col #'s) are used for each crossection \n",
    "icr = [insts_reg[np.random.randint(len(insts_reg))] for i in range(ncs)]\n",
    "\n",
    "# All permutation of combinations of n_end icoefficient vectors  \n",
    "picfs = list(iter.permutations(range(0,len(icoeffs_reg)),n_end))\n",
    "icfs = [ pcfs[i] for i in np.random.randint(len(pcfs),size = ncs)]\n",
    "\n",
    "# All permutation of combinations of n_end icoefficient vectors  \n",
    "pxcfs = list(iter.permutations(range(0,len(excoeffs_reg)),n_end))\n",
    "xcfs = [ pxcfs[i] for i in np.random.randint(len(pxcfs),size = ncs)]\n",
    "\n",
    "# # Generating coefficients matrix\n",
    "# for i in np.arange(ncs): \n",
    "#     for j in np.arange(n_exo):\n",
    "#         # Setting the coeff for each exogenous regression\n",
    "#         coeffs[i,j] = excoeffs_reg[lpz_iter[i]][j]\n",
    "#     for j in np.arange(c_inst):\n",
    "#         # Setting the coeff for each instrument used by i\n",
    "#         coeffs[i,n_exo-1+cr[j]] = cfs[j]\n",
    "            \n",
    "# Initializing Coefficient Matrix            \n",
    "coeff = np.zeros((n_end,ncs,t_inst+n_exo))\n",
    "for j in range(n_end):\n",
    "    for i in range(ncs):\n",
    "        for k in range(n_exo):\n",
    "            coeff[j,i,k] = excoeffs_reg[xcfs[i][j]][k]\n",
    "        \n",
    "        for k in range(c_inst): \n",
    "            coeff[j,i,cr[i][k]+n_exo-1] = icoeffs_reg[icfs[i][j]][k]            \n",
    "            \n",
    "        \n",
    "## Joint Distribution of Exogenous regressors\n",
    "# Vector of Means (=0)\n",
    "mu_ex = np.zeros(n_exo)\n",
    "# Diagonal matrix of variaces (=1)\n",
    "var_ex = np.eye(n_exo)\n",
    "# Variance Covariance Matrix Generation or EACH crossection\n",
    "for i in np.arange(len(ex_vpro)):\n",
    "    var_ex = (var_ex + ex_vpro[i]*np.eye(n_exo,k=i+1)\n",
    "                         + ex_vpro[i]*np.eye(n_exo,k=-(i+1))) \n",
    "# Exogenous regressor mean vector for ALL Crossections\n",
    "Mu_ex = np.tile(mu_ex,ncs) \n",
    "# Exogenous regressor variance covariance matrix for ALL Crossections\n",
    "V_ex = blkdiag(var_ex,ncs)\n",
    "    \n",
    "## Joint Distribution of Instruments for all cross sections\n",
    "# Vector of Means (=0)\n",
    "mu_inst = np.zeros(t_inst)\n",
    "# Diagonal Matrix of Variaces (=1)\n",
    "var_inst = np.eye(t_inst)\n",
    "# Variance Covariance Matrix Generation\n",
    "for i in np.arange(len(inst_vpro)):\n",
    "    var_inst = (var_inst + inst_vpro[i]*np.eye(t_inst,k=i+1) \n",
    "                         + inst_vpro[i]*np.eye(t_inst,k=-(i+1)))\n",
    "    \n",
    "## Joint Distribution of Error Terms for EACH crossection\n",
    "# Vector of means\n",
    "mu_err = np.zeros(n_end+1)\n",
    "# Diagonal Matrix of Variances \n",
    "var_err = np.eye(n_end+1)\n",
    "# Variance Covariance Matrix Generation\n",
    "if frc == 0 : \n",
    "    # Var Cov matrix for correlated errors ==> additive linear control functions \n",
    "    for i in np.arange(len(err_vpro)):\n",
    "        var_err = (var_err + err_vpro[i]*np.eye(n_end+1,k=i+1) \n",
    "                             + err_vpro[i]*np.eye(n_end+1,k=-(i+1)))\n",
    "# Error term mean vector for ALL Crossections\n",
    "Mu_err = np.tile(mu_err,ncs)        \n",
    "# Error term variance covariance matrix for ALL Crossections\n",
    "V_err = blkdiag(var_err,ncs)\n",
    "\n",
    "## Variable Generation\n",
    "# Exogenous Regressor Generation\n",
    "Ex = np.random.multivariate_normal(Mu_ex,V_ex,ntp)\n",
    "# Instruments Generation\n",
    "Inst = np.random.multivariate_normal(mu_inst,var_inst,ntp)\n",
    "# Error Terms Generation \n",
    "Err = np.random.multivariate_normal(Mu_err,V_err,ntp)\n",
    "\n",
    "## Variable Name Generation\n",
    "# Constructing a list of names for each variable consistent with \n",
    "ex_nm = list(range(1,n_exo+1))*ncs\n",
    "ex_crs = []\n",
    "for i in range(1,ncs+1): ex_crs = iter.chain(ex_crs,list(iter.repeat(i,n_exo)))\n",
    "ex_crs = list(ex_crs)\n",
    "ex_nms = [''.join(['Z',str(ex_crs[i]),',',str(ex_nm[i])]) for i in range(len(ex_nm))]\n",
    "\n",
    "# Constructing names for instruments\n",
    "inst_nms =[''.join(['W',str(i)]) for i in list(range(1,t_inst+1))]\n",
    "\n",
    "# Constructing names for error terms\n",
    "err_nm1 = ['e' if val == n_end+1 else 'V' for val in  list(range(1,n_end+2))*ncs ]\n",
    "err_nm2 = [ str(i) for y in range(1,n_end+2) for i in iter.repeat(y,n_end+1)]\n",
    "err_nm3 = ['' if val == n_end+1 else ''.join([',',str(val)]) for val in list(range(1,n_end+2))*ncs ]\n",
    "err_nm = [''.join([err_nm1[i],err_nm2[i],err_nm3[i]]) for i in range(len(err_nm1))]\n",
    "\n",
    "## Optional Data Frame Generation \n",
    "Ex_df = pd.DataFrame(Ex,columns = ex_nms)\n",
    "Inst_df = pd.DataFrame(Inst, columns = inst_nms)\n",
    "Err_df = pd.DataFrame(Err,columns = err_nm)\n"
   ]
  },
  {
   "cell_type": "code",
   "execution_count": 228,
   "metadata": {},
   "outputs": [
    {
     "data": {
      "text/plain": [
       "array([[ 0.,  0.,  0.,  0.,  0.,  0.,  0.,  0.,  0.,  0.,  0.,  0.],\n",
       "       [ 0.,  0.,  0.,  0.,  0.,  0.,  0.,  0.,  0.,  0.,  0.,  0.],\n",
       "       [ 0.,  0.,  0.,  0.,  0.,  0.,  0.,  0.,  0.,  0.,  0.,  0.]])"
      ]
     },
     "execution_count": 228,
     "metadata": {},
     "output_type": "execute_result"
    }
   ],
   "source": [
    "coeffs"
   ]
  },
  {
   "cell_type": "code",
   "execution_count": 198,
   "metadata": {},
   "outputs": [
    {
     "data": {
      "text/plain": [
       "[(3, 2), (2, 3), (2, 1)]"
      ]
     },
     "execution_count": 198,
     "metadata": {},
     "output_type": "execute_result"
    }
   ],
   "source": [
    "xcfs"
   ]
  },
  {
   "cell_type": "code",
   "execution_count": 199,
   "metadata": {},
   "outputs": [
    {
     "data": {
      "text/plain": [
       "[(4, 8, 9), (2, 3, 10), (2, 4, 5)]"
      ]
     },
     "execution_count": 199,
     "metadata": {},
     "output_type": "execute_result"
    }
   ],
   "source": [
    "cr"
   ]
  },
  {
   "cell_type": "code",
   "execution_count": 224,
   "metadata": {},
   "outputs": [
    {
     "data": {
      "text/plain": [
       "array([[[ 1.,  1.,  0.,  0.,  0., -1.,  0.,  0.,  0., -1.,  1.,  0.],\n",
       "        [ 1., -1.,  0.,  1.,  1.,  0.,  0.,  0.,  0.,  0.,  0.,  1.],\n",
       "        [ 1., -1.,  0., -1.,  0.,  1.,  1.,  0.,  0.,  0.,  0.,  0.]],\n",
       "\n",
       "       [[ 1., -1.,  0.,  0.,  0.,  1.,  0.,  0.,  0., -1.,  1.,  0.],\n",
       "        [ 1.,  1.,  0., -1., -1.,  0.,  0.,  0.,  0.,  0.,  0.,  1.],\n",
       "        [-1.,  1.,  0., -1.,  0., -1., -1.,  0.,  0.,  0.,  0.,  0.]]])"
      ]
     },
     "execution_count": 224,
     "metadata": {},
     "output_type": "execute_result"
    }
   ],
   "source": [
    "coeff = np.zeros((n_end,ncs,t_inst+n_exo))\n",
    "\n",
    "for j in range(n_end):\n",
    "    for i in range(ncs):\n",
    "        for k in range(n_exo):\n",
    "            coeff[j,i,k] = excoeffs_reg[xcfs[i][j]][k]\n",
    "        \n",
    "        for k in range(c_inst): \n",
    "            coeff[j,i,cr[i][k]+n_exo-1] = icoeffs_reg[icfs[i][j]][k]\n",
    "            \n"
   ]
  },
  {
   "cell_type": "code",
   "execution_count": 217,
   "metadata": {},
   "outputs": [
    {
     "data": {
      "text/plain": [
       "array([[ 1.  ,  0.5 ,  0.25,  0.  ,  0.  ,  0.  ,  0.  ,  0.  ,  0.  ,  0.  ],\n",
       "       [ 0.5 ,  1.  ,  0.5 ,  0.25,  0.  ,  0.  ,  0.  ,  0.  ,  0.  ,  0.  ],\n",
       "       [ 0.25,  0.5 ,  1.  ,  0.5 ,  0.25,  0.  ,  0.  ,  0.  ,  0.  ,  0.  ],\n",
       "       [ 0.  ,  0.25,  0.5 ,  1.  ,  0.5 ,  0.25,  0.  ,  0.  ,  0.  ,  0.  ],\n",
       "       [ 0.  ,  0.  ,  0.25,  0.5 ,  1.  ,  0.5 ,  0.25,  0.  ,  0.  ,  0.  ],\n",
       "       [ 0.  ,  0.  ,  0.  ,  0.25,  0.5 ,  1.  ,  0.5 ,  0.25,  0.  ,  0.  ],\n",
       "       [ 0.  ,  0.  ,  0.  ,  0.  ,  0.25,  0.5 ,  1.  ,  0.5 ,  0.25,  0.  ],\n",
       "       [ 0.  ,  0.  ,  0.  ,  0.  ,  0.  ,  0.25,  0.5 ,  1.  ,  0.5 ,\n",
       "         0.25],\n",
       "       [ 0.  ,  0.  ,  0.  ,  0.  ,  0.  ,  0.  ,  0.25,  0.5 ,  1.  ,  0.5 ],\n",
       "       [ 0.  ,  0.  ,  0.  ,  0.  ,  0.  ,  0.  ,  0.  ,  0.25,  0.5 ,  1.  ]])"
      ]
     },
     "execution_count": 217,
     "metadata": {},
     "output_type": "execute_result"
    }
   ],
   "source": [
    "var_inst"
   ]
  },
  {
   "cell_type": "code",
   "execution_count": 103,
   "metadata": {},
   "outputs": [
    {
     "data": {
      "text/plain": [
       "array([[ 1. ,  0.5,  0. ,  0. ,  0. ,  0. ],\n",
       "       [ 0.5,  1. ,  0. ,  0. ,  0. ,  0. ],\n",
       "       [ 0. ,  0. ,  1. ,  0.5,  0. ,  0. ],\n",
       "       [ 0. ,  0. ,  0.5,  1. ,  0. ,  0. ],\n",
       "       [ 0. ,  0. ,  0. ,  0. ,  1. ,  0.5],\n",
       "       [ 0. ,  0. ,  0. ,  0. ,  0.5,  1. ]])"
      ]
     },
     "execution_count": 103,
     "metadata": {},
     "output_type": "execute_result"
    }
   ],
   "source": [
    "V_ex"
   ]
  },
  {
   "cell_type": "code",
   "execution_count": 104,
   "metadata": {},
   "outputs": [
    {
     "data": {
      "text/plain": [
       "array([[ 1.  ,  0.8 ,  0.36,  0.  ,  0.  ,  0.  ,  0.  ,  0.  ,  0.  ],\n",
       "       [ 0.8 ,  1.  ,  0.8 ,  0.  ,  0.  ,  0.  ,  0.  ,  0.  ,  0.  ],\n",
       "       [ 0.36,  0.8 ,  1.  ,  0.  ,  0.  ,  0.  ,  0.  ,  0.  ,  0.  ],\n",
       "       [ 0.  ,  0.  ,  0.  ,  1.  ,  0.8 ,  0.36,  0.  ,  0.  ,  0.  ],\n",
       "       [ 0.  ,  0.  ,  0.  ,  0.8 ,  1.  ,  0.8 ,  0.  ,  0.  ,  0.  ],\n",
       "       [ 0.  ,  0.  ,  0.  ,  0.36,  0.8 ,  1.  ,  0.  ,  0.  ,  0.  ],\n",
       "       [ 0.  ,  0.  ,  0.  ,  0.  ,  0.  ,  0.  ,  1.  ,  0.8 ,  0.36],\n",
       "       [ 0.  ,  0.  ,  0.  ,  0.  ,  0.  ,  0.  ,  0.8 ,  1.  ,  0.8 ],\n",
       "       [ 0.  ,  0.  ,  0.  ,  0.  ,  0.  ,  0.  ,  0.36,  0.8 ,  1.  ]])"
      ]
     },
     "execution_count": 104,
     "metadata": {},
     "output_type": "execute_result"
    }
   ],
   "source": [
    "V_err"
   ]
  },
  {
   "cell_type": "code",
   "execution_count": null,
   "metadata": {},
   "outputs": [],
   "source": []
  }
 ],
 "metadata": {
  "kernelspec": {
   "display_name": "Python 3",
   "language": "python",
   "name": "python3"
  },
  "language_info": {
   "codemirror_mode": {
    "name": "ipython",
    "version": 3
   },
   "file_extension": ".py",
   "mimetype": "text/x-python",
   "name": "python",
   "nbconvert_exporter": "python",
   "pygments_lexer": "ipython3",
   "version": "3.6.3"
  }
 },
 "nbformat": 4,
 "nbformat_minor": 2
}
