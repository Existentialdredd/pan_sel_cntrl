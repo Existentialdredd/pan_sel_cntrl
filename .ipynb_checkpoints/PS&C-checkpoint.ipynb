{
 "cells": [
  {
   "cell_type": "code",
   "execution_count": 14,
   "metadata": {},
   "outputs": [],
   "source": [
    "## Preamble: Package Loading\n",
    "import numpy as np\n",
    "import matplotlib.pyplot as plt\n",
    "from matplotlib import gridspec\n",
    "import pandas as pd"
   ]
  },
  {
   "cell_type": "markdown",
   "metadata": {},
   "source": [
    "<h2> Parametric Panel, Selection, and Control </h2>\n",
    "<h4> Proposal Supplement </h4>\n",
    "By: Eric Penner"
   ]
  },
  {
   "cell_type": "markdown",
   "metadata": {},
   "source": [
    "<h3> 1.0 Model Setup </h3>"
   ]
  },
  {
   "cell_type": "markdown",
   "metadata": {},
   "source": [
    "#### 1.1 Base Model\n",
    "For each time period $t \\in \\{1,2, \\ldots, T\\}$, component $ d\\in \\{1,2, \\ldots , p_1\\}$ of $Z_{1jt}$, and cross-section $j \\in \\{1,2,\\ldots, q\\}$ where $\\{q,T\\} \\in \\mathbb{N}$ consider the following,\n",
    "\n",
    "\\begin{align} \n",
    "Y_{jt} &= \\beta_0 + [\\; Z_{1jt}' \\;\\; Z_{2jt}' \\;] \\beta_1 + e_j + \\varepsilon_{jt} \\\\[1em]\n",
    "%\n",
    "Z_{1jt,d} &= \\alpha_{0jd} + [\\; Z_{1j(t-1),d} \\; \\ldots \\; Z_{1j(t-c),d} \\; ] \\alpha_{1jd} + Z_{2jt}' \\alpha_{2jd} + W_{jt}' \\alpha_{3jd} + V_{jt,d} \\tag{2d} \\\\[1em]\n",
    "%\n",
    "E(&\\varepsilon_{jt} | Z_{1jt} , Z_{2jt}) = E(\\varepsilon_{jt} | Z_{1jt}) \\neq 0  \\\\[1em]\n",
    "%\n",
    "E(& V_{jdt} | Z_{1j(t-1)},\\ldots,Z_{1j(t-c)},Z_{2jt},W_{jt}) = 0 \n",
    "%\n",
    "\\end{align}\n"
   ]
  },
  {
   "cell_type": "markdown",
   "metadata": {},
   "source": [
    "Where for $\\{p_1,p_2,c,w,w_1,w_2, \\ldots ,w_q \\} \\subset \\mathbb{N}$, \n",
    "\n",
    "* $Y_{jt}$, and $\\varepsilon_{jt}$ are scalar random variables, \n",
    "\n",
    "* $Z_{2jt}$ is a $p_2$ dimesion vector of exogenous random variables, \n",
    "\n",
    "* $Z_{1jt}$  is a vector of endogenous random variables having dimension $p_1$. \n",
    "\n",
    "* $e_j$ is a scalar fixed effect, \n",
    "\n",
    "* $\\varepsilon_{jt}$ is a scalar error term, \n",
    "\n",
    "* $V_{jt,d}$ is a scalar error term. \n",
    "\n",
    "* $W_t = [ \\; W_{1t} \\;\\; W_{2t} \\;\\; \\cdots \\;\\; W_{wt} \\;]'$ is vector of instrumental variables of dimension $w$, \n",
    "\n",
    "* $W_{jt} = [\\;W_{jt,1} \\;\\; W_{jt,2} \\;\\; \\cdots \\;\\; W_{jt,w_j} \\;]'$ is a vector of instrumental variables of dimension $w_j$ where $\\{W_{jt,l}\\}_{l=1}^{w_j} \\subset \\{W_{t,l}\\}_{l=1}^{w}$ and there exists at least one pair $j,j'  \\in \\{1,2, \\ldots , p\\}$, where $j \\neq j'$, such that $\\{W_{jt,l}\\}_{l=1}^{w_j} \\neq \\{W_{j't,l}\\}_{l=1}^{w_{j'}}$.\n",
    "\n",
    "* $\\beta_0$ and $\\alpha_{0d}$  are scalars, \n",
    "\n",
    "* $\\beta_1$, $\\alpha_{1d}$, $\\alpha_{2d}$, $\\alpha_{3d}$ are $p_1 +p_2 = p$, $c$, $p_2$, and $w_j$ dimensional vectors of real numbers respectively. \n",
    "\n",
    "* Lastly for notational convenience let define the following equivalences, \n",
    "\\begin{align*} \n",
    "Z_{jt} = [\\; Z_{1jt}' \\;\\; Z_{2jt}' \\;]'  \\;\\;\\; \\text{ and } \\;\\;\\; V_{jt} = [ \\; V_{jt,1} \\; V_{jt,2} \\; \\cdots \\;V_{jt,p_1}\\;]'\n",
    "\\end{align*}"
   ]
  },
  {
   "cell_type": "markdown",
   "metadata": {},
   "source": [
    "#### 1.2 Differenced Model with Control Functions \n",
    "As shown in the the main proposal I treat the presence of endogeneity with the control function approach and then first difference the primary equation to eliminate fixed effects, resulting in the following. "
   ]
  },
  {
   "cell_type": "markdown",
   "metadata": {},
   "source": [
    "\\begin{align} \n",
    "\\Delta Y_{jt} &= \\Delta Z_{jt}'\\beta_1 + \\sum_{d=1}^{p_1} \\Delta f_{jd}(V_{jt,d}) + \\Delta u_{jt} \\\\[1em]\n",
    "%\n",
    "Z_{1jt,d} &= \\alpha_{d0} + [\\; Z_{1j(t-1),d}' \\; \\ldots \\; Z_{1j(t-c),d}' \\; ] \\alpha_{d1} + Z_{2jt}' \\alpha_{d2} + W_{jt}' \\alpha_{d3} + V_{jt,d} \\tag{2d}\\\\[1em]\n",
    "E(&\\Delta u_{jt} | \\{Z_{j_k},W_{jk},X_{jk},V_{jk} \\}_{k=1}^t) = 0 \\\\[1em]\n",
    "%\n",
    "E(& V_{jt} | Z_{1jt-1},\\ldots,Z_{1jt-c_1},Z_{2jt},W_{jt}) = 0 \n",
    "%\n",
    "\\end{align}"
   ]
  },
  {
   "cell_type": "markdown",
   "metadata": {},
   "source": [
    "#### 1.3 Identification of $\\beta_1$\n",
    "I use a variation on the identification procedure in Manzan and Zerom to identify $\\beta_1$, this required the construction of the following density ratios, functions, and vectors."
   ]
  },
  {
   "cell_type": "markdown",
   "metadata": {},
   "source": [
    "Density Ratio  \n",
    "\\begin{align*} \n",
    "\\phi_{jt} = \\frac{ \\prod_{d=1}^{p_1}p(V_{jt,d},V_{jc,d}) }{p(V_{jt},V_{jc})} \n",
    "\\end{align*}"
   ]
  },
  {
   "cell_type": "markdown",
   "metadata": {},
   "source": [
    "Conditional Expectations "
   ]
  },
  {
   "cell_type": "markdown",
   "metadata": {},
   "source": [
    "\\begin{align*} \n",
    "H_{jd}(\\Delta Z_{jt}) &= E[\\phi_{jt} \\Delta Z_{jt} |V_{jt,d},V_{jc,d}] \\hspace{1.25cm} \n",
    "%\n",
    "H_{jd}(\\Delta Y_{jt}) = E[\\phi_{jt} \\Delta Y_{jt} |V_{jt,d},V_{jc,d}] \\\\\n",
    "%\n",
    "H_j(\\Delta Z_{jt}) &= \\sum_{d=1}^{p_1} H_{jd}(\\Delta Z_{jt})  \\hspace{2.5cm}\n",
    "%\n",
    "H_j(\\Delta Y_{jt}) = \\sum_{d=1}^{p_1} H_{jd}(\\Delta Y_{jt})  \\end{align*} "
   ]
  },
  {
   "cell_type": "markdown",
   "metadata": {},
   "source": [
    "Vectors\n",
    "\n",
    "\\begin{align*}\n",
    "H(\\Delta Y_t)  &= [ \\; H_1(\\Delta Y_{1t}) \\;\\; H_2(\\Delta Y_{2t}) \\;\\; \\cdots \\;\\; H_q(\\Delta Y_{qt}) \\; ]' \\\\[1em]\n",
    "H(\\Delta Z_t)  &= [ \\; H_1(\\Delta Z_{1t}) \\;\\; H_2(\\Delta Z_{2t}) \\;\\; \\cdots \\;\\; H_q(\\Delta Z_{qt}) \\; ]' \\\\[1em]\n",
    "%\n",
    "\\Delta Y_t &= [ \\; \\Delta Y_{1t} \\;\\;  \\Delta Y_{2t} \\;\\; \\cdots \\;\\; \\Delta Y_{qt} \\;] '  \\\\[1em]\n",
    "%\n",
    "\\Delta Z_t &= [ \\; \\Delta Z_{1t} \\;\\;  \\Delta Z_{2t} \\;\\; \\cdots \\;\\; \\Delta Z_{qt} \\;] ' \n",
    "\\\\[1em] \n",
    "\\Delta u_t &=  [ \\; \\Delta u_{1t} \\;\\;  \\Delta u_{2t} \\;\\; \\cdots \\;\\; \\Delta u_{qt} \\;] ' \n",
    "\\end{align*}"
   ]
  },
  {
   "cell_type": "markdown",
   "metadata": {},
   "source": [
    "** 1.3.1 ** Lemma 1"
   ]
  },
  {
   "cell_type": "markdown",
   "metadata": {},
   "source": [
    "Letting $\\phi_{t} = diag\\big( \\{\\phi_{jt}\\;\\}_{j=1}^q \\big)$, if for all $t\\in \\{c+1, \\ldots , T\\}$\n",
    "\n",
    "1. $E\\big[ f_{jd}(V_{jdt})\\big] = E\\big[ f_{jd}(V_{jdc}) \\big] \n",
    "$ for all $d\\in \\{1,2, \\ldots , p_1\\}$, $j\\in \\{1,2, \\cdots , q\\}$, and \n",
    "\n",
    "2. $E \\Big( [\\Delta Z_t - H(\\Delta Z_t)]' [\\Delta Z_t - H(\\Delta Z_t)] \\Big)$ is positive semi definite,\n",
    "\n",
    "Then $\\beta_1$ is identified, in particular,\n",
    "\n",
    "\\begin{align*} \n",
    "\\beta_1 = E \\Big( [\\Delta Z_t - H(\\Delta Z_t)]' \\phi_{t} [\\Delta Z_t - H(\\Delta Z_t)] \\Big)^{-1}E \\Big( [\\Delta Z_t - H(\\Delta Z_t)]' \\phi_{t} [\\Delta Y_t - H(\\Delta Y_t)] \\Big)\n",
    "\\end{align*} "
   ]
  },
  {
   "cell_type": "markdown",
   "metadata": {},
   "source": [
    "<h3> 2.0 Post Secondary Equation Estimation </h3>\n",
    "Here we will discuss the estimation of $\\beta_1$ assuming that estimates $\\hat{V}_{jt,d}$ have already been generated by some as yet unspecified procedure. Estimation of the secondary equation will be discussed in the following sections"
   ]
  },
  {
   "cell_type": "markdown",
   "metadata": {},
   "source": [
    "** 2.1 ** Density Estimation\n",
    "\n",
    "The following function(s) implement a rosenblatt kernel estimator where \n",
    "\n",
    "$$ \\hat{p}(\\hat{V}_{dt,l},\\hat{V}_{d(t-1),l}) \n",
    "= (nh_1h_2)^{-1}\\sum_{i=1}^nk_1[h_1^{-1}(\\hat{V}_{di,l} -\\hat{V}_{dt,l})]k_2[h_2^{-1}(\\hat{V}_{di,l} -\\hat{V}_{d(t-1),l})]  \n",
    "$$ "
   ]
  },
  {
   "cell_type": "markdown",
   "metadata": {},
   "source": [
    "** 2.1.1 ** Calculating Kernel Values"
   ]
  },
  {
   "cell_type": "code",
   "execution_count": 15,
   "metadata": {},
   "outputs": [],
   "source": [
    "def mvkernel(x,kernel):  \n",
    "    \"\"\" \n",
    "PURPOSE: Calculate product kernel values at points x\n",
    "    \n",
    "INPUTS\n",
    "x       points of kernel evaluation (3)x(n)x(dim of x)\n",
    "kernel  Scalar value indicating which kernel to use where\n",
    "           1 = Rectangular\n",
    "           2 = Triangular\n",
    "           3 = Biweight\n",
    "           4 = Silverman's \n",
    "           5 = Epanechnikov order 2\n",
    "           6 = Epanechnikov order 2 alt\n",
    "           7 = Epanechnikov order 4\n",
    "           8 = Epanechnikov order 6\n",
    "           9 = Gaussian order 2\n",
    "           10 = Gaussian order 4\n",
    "           11 = Gaussian order 6\n",
    "\n",
    "OUTPUTS\n",
    "ker     product of kernel values along axis = 0\n",
    "    \"\"\"\n",
    "    \n",
    "    if kernel == 1:\n",
    "        # Rectangular Kernel  \n",
    "        ker = 1/2*(np.absolute(x)<1)\n",
    "    elif kernel == 2:\n",
    "        # Triangular Kernel\n",
    "        ker = (1-np.absolute(x))*(np.absolute(x)<1)\n",
    "    elif kernel == 3:\n",
    "        # Biweight Kernel\n",
    "        ker = (15/16*(1-x**2)**2)*(np.absolute(x)< 1)\n",
    "    elif kernel == 4:\n",
    "        # Silvermans Kernel \n",
    "        ker = 0.5*np.exp(-np.absolute(x)/np.sqrt(2))*np.sin( np.absolute(x)/np.sqrt(2) + np.pi/4)   \n",
    "    elif kernel == 5:\n",
    "        # Epanechnikov order 2\n",
    "        ker = 0.75*(1-x**2)*(np.absolute(x)<=1)\n",
    "    elif kernel == 6:\n",
    "        # Epanechnikov order 2 (alt)?\n",
    "        ker = (0.75/np.sqrt(5))*(1-0.2*x**2)*(np.absolute(x)<=np.sqrt(5))\n",
    "    elif kernel == 7:\n",
    "        # Epanechnikov order 4\n",
    "        ker  = (0.75/np.sqrt(5))*(15/8-7/8*x**2)*(1-0.2*x**2)*(np.absolute(x)<=np.sqrt(5))\n",
    "    elif kernel == 8:\n",
    "        # Epanechnikov order 6\n",
    "        ker  = (0.75/np.sqrt(5))*(175/64-105/32*x**2+ 231/320*x**4)*(1-0.2*x**2)*(np.absolute(x)<=np.sqrt(5))\n",
    "    elif kernel == 9:\n",
    "        # Gaussian order 2\n",
    "        ker  = (1/np.sqrt(2*np.pi))*np.exp(-0.5*x**2)\n",
    "    elif kernel == 10:\n",
    "        # Gaussian order 4\n",
    "        ker  = (3/2 -1/2*x**2)*(1/np.sqrt(2*np.pi))*np.exp(-0.5*x**2)\n",
    "    elif kernel == 11:\n",
    "        # Gaussian order 6\n",
    "        ker  = (15/8-5/4*x**2+1/8*x**4)*(1/np.sqrt(2*np.pi))*np.exp(-0.5*x**2)\n",
    "    else:\n",
    "        print('Incorrect Kernel Number')\n",
    "\n",
    "    if x.ndim > 2:\n",
    "        # Value of each product kernel\n",
    "        ker = np.prod(ker,axis = 0)\n",
    "\n",
    "    return ker"
   ]
  },
  {
   "cell_type": "markdown",
   "metadata": {},
   "source": [
    "**2.1.2 ** Calculation of Estimated Density"
   ]
  },
  {
   "cell_type": "code",
   "execution_count": 16,
   "metadata": {},
   "outputs": [],
   "source": [
    "def mvden(x,p,h,kernel): \n",
    "    \"\"\"\n",
    "Purpose: Multivariate Rosenblatt Kernel Density Estimator at points p based on sample x    \n",
    "    \n",
    "INPUTS\n",
    "x       np.array of data having order (number of observations)x(dimension of X)\n",
    "P       np.array of points of evaluation having order (number of points)x(dimension of X)\n",
    "h       Bandwidth vector of order (1)x(dimension of X)\n",
    "kernel  Scalar value indicating which kernel to use where\n",
    "           1 = Rectangular\n",
    "           2 = Triangular\n",
    "           3 = Biweight\n",
    "           4 = Silverman's \n",
    "           5 = Epanechnikov order 2\n",
    "           6 = Epanechnikov order 2 alt\n",
    "           7 = Epanechnikov order 4\n",
    "           8 = Epanechnikov order 6\n",
    "           9 = Gaussian order 2\n",
    "           10 = Gaussian order 4\n",
    "           11 = Gaussian order 6\n",
    "\n",
    "OUTPUTS\n",
    "den      Density at each point of evaluation (number of observation)x1\n",
    "    \"\"\"\n",
    "    \n",
    "    x = np.array(x)\n",
    "    p = np.array(p)\n",
    "    h = np.array(h)\n",
    "    \n",
    "    if x.ndim == 1:\n",
    "            m0 = (x.reshape(1,x.shape[0])-p.reshape(p.shape[0],1))/h\n",
    "    elif x.ndim == 2:\n",
    "        m0 = np.zeros((x.shape[1],p.shape[0],x.shape[0])) \n",
    "        for i in np.arange(0,x.shape[1],1):\n",
    "            m0[i,:,:] = (x[:,i].reshape(1,x.shape[0])-p[:,i].reshape(p.shape[0],1))/h[i]\n",
    "\n",
    "    ker = mvkernel(m0,kernel)/(x.shape[0]*np.prod(h))\n",
    "    den = np.dot(ker,np.ones(x.shape[0]))\n",
    "\n",
    "    return den"
   ]
  },
  {
   "cell_type": "markdown",
   "metadata": {},
   "source": [
    "** 2.1.1 ** Density Estimation Example"
   ]
  },
  {
   "cell_type": "code",
   "execution_count": 25,
   "metadata": {},
   "outputs": [
    {
     "data": {
      "image/png": "[encoded data removed]",
      "text/plain": [
       "<matplotlib.figure.Figure at 0x11dc13400>"
      ]
     },
     "metadata": {},
     "output_type": "display_data"
    }
   ],
   "source": [
    "n = 100\n",
    "mu = np.array([0])\n",
    "var = np.array([1/3])\n",
    "x = np.random.normal(mu,var,n).reshape(n,1)\n",
    "x = pd.DataFrame(x,columns = ['x1'])\n",
    "p = np.arange(-2,2,0.005)\n",
    "p = pd.DataFrame(p,columns =['p1'])\n",
    "h = 1.4*x.shape[0]**(-1/5)*x.std(0)\n",
    "h = np.array(h)\n",
    "p['xden'] = mvden(np.array(x),np.array(p),h,6)\n",
    "plt.plot(p.p1,p.xden)\n",
    "plt.show()"
   ]
  },
  {
   "cell_type": "markdown",
   "metadata": {},
   "source": [
    "** 2.3 ** H Function Estimation"
   ]
  },
  {
   "cell_type": "markdown",
   "metadata": {},
   "source": [
    "The following function(s) implements a leave one out nadaraya watson type estimator where,\n",
    "\n",
    "$$ \\hat{H}^d_1(Z_{ci}) = [(n-1)b_1]^{-1} \\sum_{l \\neq i}^n K_1[b_1^{-1}(X_{dl} - X_{di})] \\hat{\\theta}^d_{1l} Z_{cl}, $$"
   ]
  },
  {
   "cell_type": "code",
   "execution_count": null,
   "metadata": {},
   "outputs": [],
   "source": []
  }
 ],
 "metadata": {
  "kernelspec": {
   "display_name": "Python 3",
   "language": "python",
   "name": "python3"
  },
  "language_info": {
   "codemirror_mode": {
    "name": "ipython",
    "version": 3
   },
   "file_extension": ".py",
   "mimetype": "text/x-python",
   "name": "python",
   "nbconvert_exporter": "python",
   "pygments_lexer": "ipython3",
   "version": "3.6.4"
  }
 },
 "nbformat": 4,
 "nbformat_minor": 2
}
