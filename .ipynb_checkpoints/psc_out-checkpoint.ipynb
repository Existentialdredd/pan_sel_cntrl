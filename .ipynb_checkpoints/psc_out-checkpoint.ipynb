{
 "cells": [
  {
   "cell_type": "code",
   "execution_count": 1,
   "metadata": {
    "collapsed": true
   },
   "outputs": [],
   "source": [
    "## Preamble: Package Loading\n",
    "import numpy as np\n",
    "import ipywidgets as ipw\n",
    "from IPython.display import display\n",
    "import matplotlib.pyplot as plt\n",
    "from matplotlib import gridspec\n",
    "from mpl_toolkits.mplot3d import Axes3D\n",
    "import pandas as pd\n",
    "import itertools as iter\n",
    "import os\n",
    "import datetime as dt\n",
    "import json\n",
    "import re\n",
    "import kernel as kr\n",
    "import regex\n",
    "# Preamble working directory retreival"
   ]
  },
  {
   "cell_type": "markdown",
   "metadata": {},
   "source": [
    "<h2> 1 Function Definitions </h2>"
   ]
  },
  {
   "cell_type": "markdown",
   "metadata": {},
   "source": [
    "<h3> 1.1  Data Loading Function </h3>"
   ]
  },
  {
   "cell_type": "code",
   "execution_count": 22,
   "metadata": {},
   "outputs": [],
   "source": [
    "def psc_load(input_filename):\n",
    "    wkng_folder = os.getcwd()\n",
    "    input_file_full = ''.join([wkng_folder,'/output/',input_filename])\n",
    "    with open(input_file_full) as f_obj: \n",
    "        pscdata = json.load(f_obj)\n",
    "    inpt_dic = pscdata[0]\n",
    "    bt_rs = pscdata[1]\n",
    "    bt_df = pd.DataFrame(bt_rs['beta_cntrd'] ).T\n",
    "    bt_df.columns = bt_rs['beta_sum_row']\n",
    "    bt_sm = pd.DataFrame(bt_rs['beta_sum_dat']).T\n",
    "    bt_sm.columns = bt_rs['beta_sum_row']\n",
    "    bt_sm.index = bt_rs['beta_sum_clmn']\n",
    "    al_rs = pscdata[2]\n",
    "    al_ldf = [pd.DataFrame(al_rs['alpha_cntrd'][j]).T  for j in range(len(al_rs['alpha_cntrd']))]\n",
    "    #al_stupid = [ al_rs['alpha_sum_row'][:13] , al_rs['alpha_sum_row'][13] , al_rs['alpha_sum_row'][14]]\n",
    "    al_sm = [pd.DataFrame(al_rs['alpha_sum_dat'][j]).T  for j in range(len(al_rs['alpha_sum_dat']))]\n",
    "    for j in range(len(al_rs['alpha_sum_dat'])):\n",
    "        #al_ldf[j].columns = al_stupid[j]\n",
    "        al_ldf[j].columns = al_rs['alpha_sum_row'][j]\n",
    "        #al_sm[j].columns = al_stupid[j] \n",
    "        al_sm[j].columns = al_rs['alpha_sum_row'][j]\n",
    "        al_sm[j].index= al_rs['alpha_sum_clmn']\n",
    "\n",
    "    out = [inpt_dic, bt_df, bt_sm, al_ldf, al_sm]\n",
    "    return out"
   ]
  },
  {
   "cell_type": "markdown",
   "metadata": {},
   "source": [
    "<h3> 1.2 Plotting Function </h3>"
   ]
  },
  {
   "cell_type": "code",
   "execution_count": 23,
   "metadata": {},
   "outputs": [],
   "source": [
    "## Plotting Function\n",
    "def coeffden(coeff,line_nms,x_lm,y_lm,c_h,w,n_eqn,s_eqn):\n",
    "    nds = len(coeff)\n",
    "    w = w-1\n",
    "    s_eqn = s_eqn-1\n",
    "    if n_eqn > 1:\n",
    "        coeff = [coeff[i][s_eqn] for i in range(nds)]\n",
    "    ncfs = coeff[0].shape[0]\n",
    "    plt.close('all')\n",
    "    a = [ np.sort(coeff[i].iloc[:,w].values,axis = 0) for i in range(nds) ] \n",
    "    h = [ c_h*ncfs**(-1/5)*np.std(a[i]) for i in range(nds)]\n",
    "    aden = [ kr.mvden(a[i],a[i],h[i],9).reshape(ncfs,1) for i in range(nds) ]\n",
    "    f,ax = plt.subplots()\n",
    "    f.set_figheight(7)\n",
    "    f.set_figwidth(15)\n",
    "    ax.set_xlim((x_lm[0],x_lm[1]))\n",
    "    ax.set_ylim((0,y_lm))\n",
    "    for i in range(nds):\n",
    "        ax.plot(a[i],aden[i])\n",
    "    ax.legend(line_nms)\n",
    "    ax.grid(which = 'both')\n",
    "    ax.set_title(''.join(['Distribution of Estimated ',coeff[0].columns[w]]))\n",
    "    plt.show()"
   ]
  },
  {
   "cell_type": "markdown",
   "metadata": {},
   "source": [
    "<h3> 1.3 Interactive Plot and Tables Display Function </h3>"
   ]
  },
  {
   "cell_type": "code",
   "execution_count": 24,
   "metadata": {
    "scrolled": false
   },
   "outputs": [],
   "source": [
    "def tbl_dsp(tables,n_eqn,s_eqn,line_nms):\n",
    "    s_eqn = s_eqn-1\n",
    "    if n_eqn > 1:\n",
    "        for j in range(len(tables)):\n",
    "            display(tables[j][s_eqn])\n",
    "            display(''.join(['Case ', str(j+1),':', line_nms[j]]))\n",
    "    elif n_eqn == 1:\n",
    "        for j in range(len(tables)):\n",
    "            display(tables[j])\n",
    "            display(''.join(['Case ', str(j+1),':', line_nms[j]]))\n",
    "\n",
    "def cfs_dsp(coeff,tables,n_eqn,y_lm):\n",
    "    \n",
    "    box_hlayout = ipw.Layout(display='flex',flex_flow='row',align_items='stretch'\n",
    "                             ,width='95%')\n",
    "    \n",
    "    if n_eqn == 1:\n",
    "        coeff_sel = ipw.IntSlider( min = 1 , max = coeff[0].shape[1], value = 1, step = 1\n",
    "                             , description = 'Coefficient:'\n",
    "                              ,width = 'auto',layout = box_hlayout, style = {'description_width': 'initial'})\n",
    "    elif n_eqn > 1: \n",
    "        coeff_sel = ipw.IntSlider( min = 1 , max = coeff[0][0].shape[1], value = 1, step = 1\n",
    "                              , description = 'Coefficient:'\n",
    "                              ,width = 'auto',layout = box_hlayout, style = {'description_width': 'initial'})\n",
    "\n",
    "    eqn_sel = ipw.IntSlider( min = 1 , max = n_eqn, value = 1, step = 1, description = 'Equation:'\n",
    "                              ,width = 'auto',layout = box_hlayout, style = {'description_width': 'initial'})\n",
    "\n",
    "    ch_sel = ipw.FloatSlider(min = 0.1 , max = 3, value = 2.5, step =0.2, description = 'Bandwidth Constant'\n",
    "                             ,width = 'auto',layout = box_hlayout, style = {'description_width': 'initial'})\n",
    "\n",
    "    xlim_sel = ipw.FloatRangeSlider( value=[-0.4, 0.4], min=-0.5,max=0.5, step=0.05,description='x limits:'\n",
    "                                    ,disabled=False ,continuous_update=False, orientation='horizontal'\n",
    "                                    ,readout=True ,readout_format='.1f', width = 'auto'\n",
    "                                    ,layout=box_hlayout, style = {'description_width': 'initial'}) \n",
    "\n",
    "    coeff_out =  ipw.interactive_output(coeffden ,{'coeff': ipw.fixed(coeff), 'line_nms': ipw.fixed(line_nms)\n",
    "                                                 ,'x_lm': xlim_sel, 'y_lm': ipw.fixed(y_lm)\n",
    "                                                 ,'c_h': ch_sel,'w': coeff_sel,'n_eqn': ipw.fixed(n_eqn)\n",
    "                                                 ,'s_eqn': eqn_sel})  \n",
    "\n",
    "    table_out = ipw.interactive_output(tbl_dsp,{'tables': ipw.fixed(tables),'n_eqn': ipw.fixed(n_eqn)\n",
    "                                                ,'s_eqn': eqn_sel,'line_nms': ipw.fixed(line_nms)} )\n",
    "\n",
    "    return ipw.VBox([table_out,coeff_out,coeff_sel,ch_sel,xlim_sel,eqn_sel])"
   ]
  },
  {
   "cell_type": "markdown",
   "metadata": {},
   "source": [
    "<h3> 1.4 Input Dictionary Display Function </h3>"
   ]
  },
  {
   "cell_type": "code",
   "execution_count": 37,
   "metadata": {},
   "outputs": [],
   "source": [
    "def indict_dsp(in_dcts):\n",
    "    w_sel = ipw.IntSlider( min = 1 , max = len(in_dcts), value = 1, step = 1\n",
    "                                 , description = 'Results Dataset:'\n",
    "                                  ,width = 'auto', style = {'description_width': 'initial'})\n",
    "    def in_dcts_dsp(in_dcts,w):\n",
    "        display(in_dcts[w-1])\n",
    "\n",
    "    dict_out = ipw.interactive_output(in_dcts_dsp,{'in_dcts': ipw.fixed(in_dcts),'w': w_sel })\n",
    "    return ipw.VBox([w_sel,dict_out])"
   ]
  },
  {
   "cell_type": "markdown",
   "metadata": {},
   "source": [
    "<h2> 2 Results </h2> "
   ]
  },
  {
   "cell_type": "code",
   "execution_count": 38,
   "metadata": {},
   "outputs": [],
   "source": [
    "inpt_filenames = ['pscout_6_12_1954.json' ,'pscout_6_12_1220.json' , 'pscout_6_12_1799.json']\n",
    "\n",
    "res_out = [psc_load(inpt_filenames[i]) for i in range(len(inpt_filenames))]\n",
    "in_dcts = [res_out[i][0] for i in range(len(inpt_filenames))]\n",
    "dgp_filenames = [ in_dcts[i]['input_filename'] for i in range(len(inpt_filenames)) ]\n",
    "bcoeff  = [res_out[i][1] for i in range(len(inpt_filenames))]\n",
    "acoeff  = [res_out[i][3] for i in range(len(inpt_filenames))]\n",
    "btables = [res_out[i][2] for i in range(len(inpt_filenames))]\n",
    "atables = [res_out[i][4] for i in range(len(inpt_filenames))]\n",
    "\n",
    "line_nms = ['n=30', 'n=50' ,'n=70']"
   ]
  },
  {
   "cell_type": "code",
   "execution_count": 39,
   "metadata": {
    "scrolled": false
   },
   "outputs": [
    {
     "data": {
      "application/vnd.jupyter.widget-view+json": {
       "model_id": "8853284f4dc74e658372c18bbdcbbaeb",
       "version_major": 2,
       "version_minor": 0
      },
      "text/plain": [
       "VBox(children=(IntSlider(value=1, description='Results Dataset:', max=3, min=1, style=SliderStyle(description_…"
      ]
     },
     "metadata": {},
     "output_type": "display_data"
    }
   ],
   "source": [
    "indict_dsp(in_dcts)"
   ]
  },
  {
   "cell_type": "code",
   "execution_count": 26,
   "metadata": {
    "scrolled": false
   },
   "outputs": [
    {
     "data": {
      "application/vnd.jupyter.widget-view+json": {
       "model_id": "0f1546a5a0944235a51e3ee8ab3c3ec8",
       "version_major": 2,
       "version_minor": 0
      },
      "text/plain": [
       "VBox(children=(Output(), Output(), IntSlider(value=1, description='Coefficient:', layout=Layout(align_items='s…"
      ]
     },
     "metadata": {},
     "output_type": "display_data"
    },
    {
     "data": {
      "application/vnd.jupyter.widget-view+json": {
       "model_id": "ed1df48b2e51420f8ae76308b3170e43",
       "version_major": 2,
       "version_minor": 0
      },
      "text/plain": [
       "VBox(children=(Output(), Output(), IntSlider(value=1, description='Coefficient:', layout=Layout(align_items='s…"
      ]
     },
     "metadata": {},
     "output_type": "display_data"
    }
   ],
   "source": [
    "display(cfs_dsp(bcoeff,btables,1,12))\n",
    "display(cfs_dsp(acoeff,atables,2,5))"
   ]
  }
 ],
 "metadata": {
  "kernelspec": {
   "display_name": "Python 3",
   "language": "python",
   "name": "python3"
  },
  "language_info": {
   "codemirror_mode": {
    "name": "ipython",
    "version": 3
   },
   "file_extension": ".py",
   "mimetype": "text/x-python",
   "name": "python",
   "nbconvert_exporter": "python",
   "pygments_lexer": "ipython3",
   "version": "3.6.3"
  },
  "varInspector": {
   "cols": {
    "lenName": 16,
    "lenType": 16,
    "lenVar": 40
   },
   "kernels_config": {
    "python": {
     "delete_cmd_postfix": "",
     "delete_cmd_prefix": "del ",
     "library": "var_list.py",
     "varRefreshCmd": "print(var_dic_list())"
    },
    "r": {
     "delete_cmd_postfix": ") ",
     "delete_cmd_prefix": "rm(",
     "library": "var_list.r",
     "varRefreshCmd": "cat(var_dic_list()) "
    }
   },
   "types_to_exclude": [
    "module",
    "function",
    "builtin_function_or_method",
    "instance",
    "_Feature"
   ],
   "window_display": false
  }
 },
 "nbformat": 4,
 "nbformat_minor": 2
}
