{
 "cells": [
  {
   "cell_type": "code",
   "execution_count": 1,
   "metadata": {},
   "outputs": [],
   "source": [
    "## Preamble: Package Loading\n",
    "import numpy as np\n",
    "import ipywidgets as ipw\n",
    "from IPython.display import display\n",
    "import matplotlib.pyplot as plt\n",
    "from matplotlib import gridspec\n",
    "import pandas as pd\n",
    "import json\n",
    "import kernel as kr\n",
    "import psc_sumdisp as psd \n",
    "# Preamble working directory retreival"
   ]
  },
  {
   "cell_type": "markdown",
   "metadata": {},
   "source": [
    "<h2>Trial Set 1: Varying the Number of Time Periods </h2> \n",
    "\n",
    "Here we examine the sampling distribution of $\\hat{\\beta}_1, \\hat{\\alpha}_{1}$ and $\\hat{\\alpha}_{2}$ as the number of time periods $T$ increases i.e. where $T \\in \\{30,50,70\\}$, while holding the following constant (amongst others shown below).\n",
    "\n",
    "* Number of Cross Sections: 5\n",
    "\n",
    "\n",
    "* Number of Endogenous Regressors: 2\n",
    "\n",
    "\n",
    "* Number of Exogenous Regressors: 2\n",
    "\n",
    "\n",
    "* Total Number of Instruments: 5\n",
    "\n",
    "\n",
    "* Number of Instrument Relevant to Each Cross Section: 3"
   ]
  },
  {
   "cell_type": "markdown",
   "metadata": {},
   "source": [
    "<h3> Trial Set 1: Data Loading and Organization </h3> \n",
    "\n",
    "The following is extracts and organizes all relvant information from the results data sets whose file names are list here. "
   ]
  },
  {
   "cell_type": "code",
   "execution_count": 2,
   "metadata": {},
   "outputs": [],
   "source": [
    "inpt_filenames0 = ['pscout_6_12_1954.json' ,'pscout_6_12_1220.json' , 'pscout_6_12_1799.json']\n",
    "line_nms0 = ['n=30', 'n=50' ,'n=70']\n",
    "\n",
    "res_out0 = [psd.psc_load(inpt_filenames0[i]) for i in range(len(inpt_filenames0))]\n",
    "estin_dcts0 = [res_out0[i][0] for i in range(len(inpt_filenames0))]\n",
    "dgp_sum_filenames0 = [ estin_dcts0[i]['input_filename'].replace('pscdata','pscsum')\n",
    "                      for i in range(len(inpt_filenames0))]\n",
    "dgp_dicts0 = [psd.pscsum_load(dgp_sum_filenames0[i]) \n",
    "             for i in range(len(dgp_sum_filenames0))]\n",
    "dgpin_dcts0 =  [dgp_dicts0[i][0] for i in range(len(inpt_filenames0))]\n",
    "merged_dcts0 = [{**estin_dcts0[i],**dgpin_dcts0[i]} for i in range(len(inpt_filenames0))]\n",
    "true_bcoeffs0 = [dgp_dicts0[i][1] for i in range(len(inpt_filenames0))]\n",
    "true_acoeffs0 = [dgp_dicts0[i][2] for i in range(len(inpt_filenames0))]\n",
    "bcoeff0  = [res_out0[i][1] for i in range(len(inpt_filenames0))]\n",
    "acoeff0  = [res_out0[i][3] for i in range(len(inpt_filenames0))]\n",
    "btables0 = [res_out0[i][2] for i in range(len(inpt_filenames0))]\n",
    "atables0 = [res_out0[i][4] for i in range(len(inpt_filenames0))]"
   ]
  },
  {
   "cell_type": "markdown",
   "metadata": {},
   "source": [
    "<h3> Trial Set 1: Merged DGP and Estimator Function Input Dictionary Comparison </h3> \n",
    "\n",
    "Here I have merged together the dictionary used to generate the underlying dataset used to generate the results (you will see the file name for this data set below) and the dictionary used to produce the estimates based on that data below. \n",
    "\n",
    "Below you will see a slider which can be used to summarize this merged dictionary corresponding to the position its file name appears in 'input_filenames0' above. "
   ]
  },
  {
   "cell_type": "code",
   "execution_count": 3,
   "metadata": {
    "scrolled": false
   },
   "outputs": [
    {
     "data": {
      "application/vnd.jupyter.widget-view+json": {
       "model_id": "ed62f9339be14cc0aa752bb3110d2a1e",
       "version_major": 2,
       "version_minor": 0
      },
      "text/html": [
       "<p>Failed to display Jupyter Widget of type <code>VBox</code>.</p>\n",
       "<p>\n",
       "  If you're reading this message in the Jupyter Notebook or JupyterLab Notebook, it may mean\n",
       "  that the widgets JavaScript is still loading. If this message persists, it\n",
       "  likely means that the widgets JavaScript library is either not installed or\n",
       "  not enabled. See the <a href=\"https://ipywidgets.readthedocs.io/en/stable/user_install.html\">Jupyter\n",
       "  Widgets Documentation</a> for setup instructions.\n",
       "</p>\n",
       "<p>\n",
       "  If you're reading this message in another frontend (for example, a static\n",
       "  rendering on GitHub or <a href=\"https://nbviewer.jupyter.org/\">NBViewer</a>),\n",
       "  it may mean that your frontend doesn't currently support widgets.\n",
       "</p>\n"
      ],
      "text/plain": [
       "VBox(children=(IntSlider(value=1, description='Results Dataset: ', max=3, min=1, style=SliderStyle(description_width='initial')), Output()))"
      ]
     },
     "metadata": {},
     "output_type": "display_data"
    }
   ],
   "source": [
    "psd.indict_dsp(merged_dcts0,1)"
   ]
  },
  {
   "cell_type": "markdown",
   "metadata": {},
   "source": [
    "<h3> Trial Set 1: True Primary Equations Coefficients Comparison </h3>\n",
    "\n",
    "Here I interactively display the coefficent vector $\\beta_1$ used to generate the data set corresponding to the position its file name appears in 'input_filenames0' above. Here they should be identical. "
   ]
  },
  {
   "cell_type": "code",
   "execution_count": 4,
   "metadata": {
    "scrolled": true
   },
   "outputs": [
    {
     "data": {
      "application/vnd.jupyter.widget-view+json": {
       "model_id": "2caba86310c64bebb6ab0bd960ad9233",
       "version_major": 2,
       "version_minor": 0
      },
      "text/html": [
       "<p>Failed to display Jupyter Widget of type <code>VBox</code>.</p>\n",
       "<p>\n",
       "  If you're reading this message in the Jupyter Notebook or JupyterLab Notebook, it may mean\n",
       "  that the widgets JavaScript is still loading. If this message persists, it\n",
       "  likely means that the widgets JavaScript library is either not installed or\n",
       "  not enabled. See the <a href=\"https://ipywidgets.readthedocs.io/en/stable/user_install.html\">Jupyter\n",
       "  Widgets Documentation</a> for setup instructions.\n",
       "</p>\n",
       "<p>\n",
       "  If you're reading this message in another frontend (for example, a static\n",
       "  rendering on GitHub or <a href=\"https://nbviewer.jupyter.org/\">NBViewer</a>),\n",
       "  it may mean that your frontend doesn't currently support widgets.\n",
       "</p>\n"
      ],
      "text/plain": [
       "VBox(children=(IntSlider(value=1, description='Results Dataset: ', max=3, min=1, style=SliderStyle(description_width='initial')), Output()))"
      ]
     },
     "metadata": {},
     "output_type": "display_data"
    }
   ],
   "source": [
    "psd.indict_dsp(true_bcoeffs0,1)"
   ]
  },
  {
   "cell_type": "markdown",
   "metadata": {},
   "source": [
    "<h3> Trial Set 1: True Secondary Equation Coefficients Comparison </h3> \n",
    "\n",
    "Here I interactively display the coefficent vectors $\\alpha_{1jd}$ used to generate the data set (by row indicating cross section and equation) corresponding to the position its file name appears in 'input_filenames0' above. Here they should also be identical across data sets. \n",
    "\n",
    "**Note:** \n",
    "\n",
    "1.) That since in the above 'sec_pan = 1' the secondary equations are panel type so all non zero coefficients in a columns should be identical. \n",
    "\n",
    "2.) A zero coefficient in the following matrix means that the instrument it multiplies is not relevant to that cross section. \n"
   ]
  },
  {
   "cell_type": "code",
   "execution_count": 5,
   "metadata": {
    "scrolled": true
   },
   "outputs": [
    {
     "data": {
      "application/vnd.jupyter.widget-view+json": {
       "model_id": "13ec983690db4adb99668018d39f3757",
       "version_major": 2,
       "version_minor": 0
      },
      "text/html": [
       "<p>Failed to display Jupyter Widget of type <code>VBox</code>.</p>\n",
       "<p>\n",
       "  If you're reading this message in the Jupyter Notebook or JupyterLab Notebook, it may mean\n",
       "  that the widgets JavaScript is still loading. If this message persists, it\n",
       "  likely means that the widgets JavaScript library is either not installed or\n",
       "  not enabled. See the <a href=\"https://ipywidgets.readthedocs.io/en/stable/user_install.html\">Jupyter\n",
       "  Widgets Documentation</a> for setup instructions.\n",
       "</p>\n",
       "<p>\n",
       "  If you're reading this message in another frontend (for example, a static\n",
       "  rendering on GitHub or <a href=\"https://nbviewer.jupyter.org/\">NBViewer</a>),\n",
       "  it may mean that your frontend doesn't currently support widgets.\n",
       "</p>\n"
      ],
      "text/plain": [
       "VBox(children=(IntSlider(value=1, description='Equation: ', max=2, min=1, style=SliderStyle(description_width='initial')), IntSlider(value=1, description='Results Dataset: ', max=3, min=1, style=SliderStyle(description_width='initial')), Output()))"
      ]
     },
     "metadata": {},
     "output_type": "display_data"
    }
   ],
   "source": [
    "psd.indict_dsp(true_acoeffs0,2)"
   ]
  },
  {
   "cell_type": "markdown",
   "metadata": {},
   "source": [
    "<h3> Trial Set 1: Primary Function Coefficient Estimates </h3>\n",
    "\n",
    "Here I show the sampling distribution of the elements of $\\beta_1$.  "
   ]
  },
  {
   "cell_type": "code",
   "execution_count": 6,
   "metadata": {
    "scrolled": false
   },
   "outputs": [
    {
     "data": {
      "application/vnd.jupyter.widget-view+json": {
       "model_id": "a028d3c60dd445829f159ce253303f69",
       "version_major": 2,
       "version_minor": 0
      },
      "text/html": [
       "<p>Failed to display Jupyter Widget of type <code>VBox</code>.</p>\n",
       "<p>\n",
       "  If you're reading this message in the Jupyter Notebook or JupyterLab Notebook, it may mean\n",
       "  that the widgets JavaScript is still loading. If this message persists, it\n",
       "  likely means that the widgets JavaScript library is either not installed or\n",
       "  not enabled. See the <a href=\"https://ipywidgets.readthedocs.io/en/stable/user_install.html\">Jupyter\n",
       "  Widgets Documentation</a> for setup instructions.\n",
       "</p>\n",
       "<p>\n",
       "  If you're reading this message in another frontend (for example, a static\n",
       "  rendering on GitHub or <a href=\"https://nbviewer.jupyter.org/\">NBViewer</a>),\n",
       "  it may mean that your frontend doesn't currently support widgets.\n",
       "</p>\n"
      ],
      "text/plain": [
       "VBox(children=(Output(), Output(), IntSlider(value=1, description='Coefficient:', layout=Layout(align_items='stretch', display='flex', flex_flow='row', width='95%'), max=4, min=1, style=SliderStyle(description_width='initial')), FloatSlider(value=2.5, description='Bandwidth Constant', layout=Layout(align_items='stretch', display='flex', flex_flow='row', width='95%'), max=3.0, min=0.1, step=0.2, style=SliderStyle(description_width='initial')), FloatRangeSlider(value=(-0.4, 0.4), continuous_update=False, description='x limits:', layout=Layout(align_items='stretch', display='flex', flex_flow='row', width='95%'), max=0.5, min=-0.5, readout_format='.1f', step=0.05, style=SliderStyle(description_width='initial')), IntSlider(value=1, description='Equation:', layout=Layout(align_items='stretch', display='flex', flex_flow='row', width='95%'), max=1, min=1, style=SliderStyle(description_width='initial'))))"
      ]
     },
     "metadata": {},
     "output_type": "display_data"
    }
   ],
   "source": [
    "display(psd.cfs_dsp(bcoeff0,btables0,1,12,line_nms0))"
   ]
  },
  {
   "cell_type": "markdown",
   "metadata": {},
   "source": [
    "<h4> Comments on Primary Function Coefficient Estimates </h4>"
   ]
  },
  {
   "cell_type": "markdown",
   "metadata": {
    "collapsed": true
   },
   "source": [
    "1.) The sampling distribution behave in the way that we would expect a consistent estimator to behave meaning that the bias and variance of all coefficient decrease as the number of time periods increases.  \n",
    "\n",
    "2.) The sample variance of the coefficients multiplying the endogenous regressors are much larger than those multiplying the exogenous regressors. Given the dgp this makes sense in that $Z_1$ is not correlated with error term $\\varepsilon$, thus its identification is accomplished without the need for estimating $V$ meaning that the "
   ]
  },
  {
   "cell_type": "markdown",
   "metadata": {},
   "source": [
    "<h3> Trial Set 1: Secondary Function Coefficient Estimates </h3>"
   ]
  },
  {
   "cell_type": "code",
   "execution_count": 7,
   "metadata": {
    "scrolled": false
   },
   "outputs": [
    {
     "data": {
      "application/vnd.jupyter.widget-view+json": {
       "model_id": "37300738051c41bd8135f71e8fef94b0",
       "version_major": 2,
       "version_minor": 0
      },
      "text/html": [
       "<p>Failed to display Jupyter Widget of type <code>VBox</code>.</p>\n",
       "<p>\n",
       "  If you're reading this message in the Jupyter Notebook or JupyterLab Notebook, it may mean\n",
       "  that the widgets JavaScript is still loading. If this message persists, it\n",
       "  likely means that the widgets JavaScript library is either not installed or\n",
       "  not enabled. See the <a href=\"https://ipywidgets.readthedocs.io/en/stable/user_install.html\">Jupyter\n",
       "  Widgets Documentation</a> for setup instructions.\n",
       "</p>\n",
       "<p>\n",
       "  If you're reading this message in another frontend (for example, a static\n",
       "  rendering on GitHub or <a href=\"https://nbviewer.jupyter.org/\">NBViewer</a>),\n",
       "  it may mean that your frontend doesn't currently support widgets.\n",
       "</p>\n"
      ],
      "text/plain": [
       "VBox(children=(Output(), Output(), IntSlider(value=1, description='Coefficient:', layout=Layout(align_items='stretch', display='flex', flex_flow='row', width='95%'), max=7, min=1, style=SliderStyle(description_width='initial')), FloatSlider(value=2.5, description='Bandwidth Constant', layout=Layout(align_items='stretch', display='flex', flex_flow='row', width='95%'), max=3.0, min=0.1, step=0.2, style=SliderStyle(description_width='initial')), FloatRangeSlider(value=(-0.4, 0.4), continuous_update=False, description='x limits:', layout=Layout(align_items='stretch', display='flex', flex_flow='row', width='95%'), max=0.5, min=-0.5, readout_format='.1f', step=0.05, style=SliderStyle(description_width='initial')), IntSlider(value=1, description='Equation:', layout=Layout(align_items='stretch', display='flex', flex_flow='row', width='95%'), max=2, min=1, style=SliderStyle(description_width='initial'))))"
      ]
     },
     "metadata": {},
     "output_type": "display_data"
    }
   ],
   "source": [
    "display(psd.cfs_dsp(acoeff0,atables0,2,5,line_nms0))"
   ]
  },
  {
   "cell_type": "markdown",
   "metadata": {},
   "source": [
    "<h2> Trial Set 2: Varying the number of crossections </h2>"
   ]
  },
  {
   "cell_type": "markdown",
   "metadata": {},
   "source": [
    "<h3> Trial Set 2: Data Loading and Organization </h3> "
   ]
  },
  {
   "cell_type": "code",
   "execution_count": 8,
   "metadata": {},
   "outputs": [],
   "source": [
    "inpt_filenames1 = ['pscout_6_12_1220.json' ,'pscout_6_13_1914.json'\n",
    "                   ,'pscout_6_13_1498.json','pscout_6_13_1227.json' ]\n",
    "line_nms1 = ['ncr = 5','ncr = 10', 'ncr = 15', 'ncr = 20']\n",
    "\n",
    "res_out1 = [psd.psc_load(inpt_filenames1[i]) for i in range(len(inpt_filenames1))]\n",
    "estin_dcts1 = [res_out1[i][0] for i in range(len(inpt_filenames1))]\n",
    "dgp_sum_filenames1 = [ estin_dcts1[i]['input_filename'].replace('pscdata','pscsum')\n",
    "                      for i in range(len(inpt_filenames1))]\n",
    "dgp_dicts1 = [psd.pscsum_load(dgp_sum_filenames1[i]) \n",
    "             for i in range(len(dgp_sum_filenames1))]\n",
    "merged_dcts1 = [{**estin_dcts0[i],**dgpin_dcts0[i]} for i in range(len(inpt_filenames0))]\n",
    "dgpin_dcts1 =  [dgp_dicts1[i][0] for i in range(len(inpt_filenames1))]\n",
    "true_bcoeffs1 = [dgp_dicts1[i][1] for i in range(len(inpt_filenames1))]\n",
    "true_acoeffs1 = [dgp_dicts1[i][2] for i in range(len(inpt_filenames1))]\n",
    "bcoeff1  = [res_out1[i][1] for i in range(len(inpt_filenames1))]\n",
    "acoeff1  = [res_out1[i][3] for i in range(len(inpt_filenames1))]\n",
    "btables1 = [res_out1[i][2] for i in range(len(inpt_filenames1))]\n",
    "atables1 = [res_out1[i][4] for i in range(len(inpt_filenames1))]"
   ]
  },
  {
   "cell_type": "markdown",
   "metadata": {},
   "source": [
    "<h3> Trial Set 2: DGP and Estimator Function Input Dictionary Comparison </h3> "
   ]
  },
  {
   "cell_type": "code",
   "execution_count": 9,
   "metadata": {
    "scrolled": false
   },
   "outputs": [
    {
     "data": {
      "application/vnd.jupyter.widget-view+json": {
       "model_id": "7101f1b986254a2fb6d51a0cbd694416",
       "version_major": 2,
       "version_minor": 0
      },
      "text/html": [
       "<p>Failed to display Jupyter Widget of type <code>VBox</code>.</p>\n",
       "<p>\n",
       "  If you're reading this message in the Jupyter Notebook or JupyterLab Notebook, it may mean\n",
       "  that the widgets JavaScript is still loading. If this message persists, it\n",
       "  likely means that the widgets JavaScript library is either not installed or\n",
       "  not enabled. See the <a href=\"https://ipywidgets.readthedocs.io/en/stable/user_install.html\">Jupyter\n",
       "  Widgets Documentation</a> for setup instructions.\n",
       "</p>\n",
       "<p>\n",
       "  If you're reading this message in another frontend (for example, a static\n",
       "  rendering on GitHub or <a href=\"https://nbviewer.jupyter.org/\">NBViewer</a>),\n",
       "  it may mean that your frontend doesn't currently support widgets.\n",
       "</p>\n"
      ],
      "text/plain": [
       "VBox(children=(IntSlider(value=1, description='Results Dataset: ', max=3, min=1, style=SliderStyle(description_width='initial')), Output()))"
      ]
     },
     "metadata": {},
     "output_type": "display_data"
    }
   ],
   "source": [
    "psd.indict_dsp(merged_dcts1,1)"
   ]
  },
  {
   "cell_type": "markdown",
   "metadata": {},
   "source": [
    "<h3> Trial Set 2: True Primary Equations Coefficients Comparison </h3>"
   ]
  },
  {
   "cell_type": "code",
   "execution_count": 10,
   "metadata": {
    "scrolled": true
   },
   "outputs": [
    {
     "data": {
      "application/vnd.jupyter.widget-view+json": {
       "model_id": "bac17cba45d24b1db57ea47dd2f30bbe",
       "version_major": 2,
       "version_minor": 0
      },
      "text/html": [
       "<p>Failed to display Jupyter Widget of type <code>VBox</code>.</p>\n",
       "<p>\n",
       "  If you're reading this message in the Jupyter Notebook or JupyterLab Notebook, it may mean\n",
       "  that the widgets JavaScript is still loading. If this message persists, it\n",
       "  likely means that the widgets JavaScript library is either not installed or\n",
       "  not enabled. See the <a href=\"https://ipywidgets.readthedocs.io/en/stable/user_install.html\">Jupyter\n",
       "  Widgets Documentation</a> for setup instructions.\n",
       "</p>\n",
       "<p>\n",
       "  If you're reading this message in another frontend (for example, a static\n",
       "  rendering on GitHub or <a href=\"https://nbviewer.jupyter.org/\">NBViewer</a>),\n",
       "  it may mean that your frontend doesn't currently support widgets.\n",
       "</p>\n"
      ],
      "text/plain": [
       "VBox(children=(IntSlider(value=1, description='Results Dataset: ', max=4, min=1, style=SliderStyle(description_width='initial')), Output()))"
      ]
     },
     "metadata": {},
     "output_type": "display_data"
    }
   ],
   "source": [
    "psd.indict_dsp(true_bcoeffs1,1)"
   ]
  },
  {
   "cell_type": "markdown",
   "metadata": {},
   "source": [
    "<h3> Trial Set 2: True Secondary Equation Coefficients Comparison </h3> "
   ]
  },
  {
   "cell_type": "code",
   "execution_count": 11,
   "metadata": {
    "scrolled": false
   },
   "outputs": [
    {
     "data": {
      "application/vnd.jupyter.widget-view+json": {
       "model_id": "846ed762924e4e70a17ba7ad02ddd106",
       "version_major": 2,
       "version_minor": 0
      },
      "text/html": [
       "<p>Failed to display Jupyter Widget of type <code>VBox</code>.</p>\n",
       "<p>\n",
       "  If you're reading this message in the Jupyter Notebook or JupyterLab Notebook, it may mean\n",
       "  that the widgets JavaScript is still loading. If this message persists, it\n",
       "  likely means that the widgets JavaScript library is either not installed or\n",
       "  not enabled. See the <a href=\"https://ipywidgets.readthedocs.io/en/stable/user_install.html\">Jupyter\n",
       "  Widgets Documentation</a> for setup instructions.\n",
       "</p>\n",
       "<p>\n",
       "  If you're reading this message in another frontend (for example, a static\n",
       "  rendering on GitHub or <a href=\"https://nbviewer.jupyter.org/\">NBViewer</a>),\n",
       "  it may mean that your frontend doesn't currently support widgets.\n",
       "</p>\n"
      ],
      "text/plain": [
       "VBox(children=(IntSlider(value=1, description='Equation: ', max=2, min=1, style=SliderStyle(description_width='initial')), IntSlider(value=1, description='Results Dataset: ', max=4, min=1, style=SliderStyle(description_width='initial')), Output()))"
      ]
     },
     "metadata": {},
     "output_type": "display_data"
    }
   ],
   "source": [
    "psd.indict_dsp(true_acoeffs1,2)"
   ]
  },
  {
   "cell_type": "markdown",
   "metadata": {},
   "source": [
    "<h3> Trial Set 2: Primary Function Coefficient Estimates </h3>"
   ]
  },
  {
   "cell_type": "code",
   "execution_count": 12,
   "metadata": {
    "scrolled": false
   },
   "outputs": [
    {
     "data": {
      "application/vnd.jupyter.widget-view+json": {
       "model_id": "7281a06e2f484f1c9e21e253b22e5383",
       "version_major": 2,
       "version_minor": 0
      },
      "text/html": [
       "<p>Failed to display Jupyter Widget of type <code>VBox</code>.</p>\n",
       "<p>\n",
       "  If you're reading this message in the Jupyter Notebook or JupyterLab Notebook, it may mean\n",
       "  that the widgets JavaScript is still loading. If this message persists, it\n",
       "  likely means that the widgets JavaScript library is either not installed or\n",
       "  not enabled. See the <a href=\"https://ipywidgets.readthedocs.io/en/stable/user_install.html\">Jupyter\n",
       "  Widgets Documentation</a> for setup instructions.\n",
       "</p>\n",
       "<p>\n",
       "  If you're reading this message in another frontend (for example, a static\n",
       "  rendering on GitHub or <a href=\"https://nbviewer.jupyter.org/\">NBViewer</a>),\n",
       "  it may mean that your frontend doesn't currently support widgets.\n",
       "</p>\n"
      ],
      "text/plain": [
       "VBox(children=(Output(), Output(), IntSlider(value=1, description='Coefficient:', layout=Layout(align_items='stretch', display='flex', flex_flow='row', width='95%'), max=4, min=1, style=SliderStyle(description_width='initial')), FloatSlider(value=2.5, description='Bandwidth Constant', layout=Layout(align_items='stretch', display='flex', flex_flow='row', width='95%'), max=3.0, min=0.1, step=0.2, style=SliderStyle(description_width='initial')), FloatRangeSlider(value=(-0.4, 0.4), continuous_update=False, description='x limits:', layout=Layout(align_items='stretch', display='flex', flex_flow='row', width='95%'), max=0.5, min=-0.5, readout_format='.1f', step=0.05, style=SliderStyle(description_width='initial')), IntSlider(value=1, description='Equation:', layout=Layout(align_items='stretch', display='flex', flex_flow='row', width='95%'), max=1, min=1, style=SliderStyle(description_width='initial'))))"
      ]
     },
     "metadata": {},
     "output_type": "display_data"
    }
   ],
   "source": [
    "display(psd.cfs_dsp(bcoeff1,btables1,1,12,line_nms1))"
   ]
  },
  {
   "cell_type": "markdown",
   "metadata": {},
   "source": [
    "<h3> Trial Set 2: Secondary Function Coefficient Estimates </h3>"
   ]
  },
  {
   "cell_type": "code",
   "execution_count": 13,
   "metadata": {
    "scrolled": false
   },
   "outputs": [
    {
     "data": {
      "application/vnd.jupyter.widget-view+json": {
       "model_id": "8c25cc0aa92b4ea5811f71010a4b664e",
       "version_major": 2,
       "version_minor": 0
      },
      "text/html": [
       "<p>Failed to display Jupyter Widget of type <code>VBox</code>.</p>\n",
       "<p>\n",
       "  If you're reading this message in the Jupyter Notebook or JupyterLab Notebook, it may mean\n",
       "  that the widgets JavaScript is still loading. If this message persists, it\n",
       "  likely means that the widgets JavaScript library is either not installed or\n",
       "  not enabled. See the <a href=\"https://ipywidgets.readthedocs.io/en/stable/user_install.html\">Jupyter\n",
       "  Widgets Documentation</a> for setup instructions.\n",
       "</p>\n",
       "<p>\n",
       "  If you're reading this message in another frontend (for example, a static\n",
       "  rendering on GitHub or <a href=\"https://nbviewer.jupyter.org/\">NBViewer</a>),\n",
       "  it may mean that your frontend doesn't currently support widgets.\n",
       "</p>\n"
      ],
      "text/plain": [
       "VBox(children=(Output(), Output(), IntSlider(value=1, description='Coefficient:', layout=Layout(align_items='stretch', display='flex', flex_flow='row', width='95%'), max=7, min=1, style=SliderStyle(description_width='initial')), FloatSlider(value=2.5, description='Bandwidth Constant', layout=Layout(align_items='stretch', display='flex', flex_flow='row', width='95%'), max=3.0, min=0.1, step=0.2, style=SliderStyle(description_width='initial')), FloatRangeSlider(value=(-0.4, 0.4), continuous_update=False, description='x limits:', layout=Layout(align_items='stretch', display='flex', flex_flow='row', width='95%'), max=0.5, min=-0.5, readout_format='.1f', step=0.05, style=SliderStyle(description_width='initial')), IntSlider(value=1, description='Equation:', layout=Layout(align_items='stretch', display='flex', flex_flow='row', width='95%'), max=2, min=1, style=SliderStyle(description_width='initial'))))"
      ]
     },
     "metadata": {},
     "output_type": "display_data"
    }
   ],
   "source": [
    "display(psd.cfs_dsp(acoeff1,atables1,2,8,line_nms1))"
   ]
  }
 ],
 "metadata": {
  "kernelspec": {
   "display_name": "Python 3",
   "language": "python",
   "name": "python3"
  },
  "language_info": {
   "codemirror_mode": {
    "name": "ipython",
    "version": 3
   },
   "file_extension": ".py",
   "mimetype": "text/x-python",
   "name": "python",
   "nbconvert_exporter": "python",
   "pygments_lexer": "ipython3",
   "version": "3.6.4"
  },
  "varInspector": {
   "cols": {
    "lenName": 16,
    "lenType": 16,
    "lenVar": 40
   },
   "kernels_config": {
    "python": {
     "delete_cmd_postfix": "",
     "delete_cmd_prefix": "del ",
     "library": "var_list.py",
     "varRefreshCmd": "print(var_dic_list())"
    },
    "r": {
     "delete_cmd_postfix": ") ",
     "delete_cmd_prefix": "rm(",
     "library": "var_list.r",
     "varRefreshCmd": "cat(var_dic_list()) "
    }
   },
   "types_to_exclude": [
    "module",
    "function",
    "builtin_function_or_method",
    "instance",
    "_Feature"
   ],
   "window_display": false
  }
 },
 "nbformat": 4,
 "nbformat_minor": 2
}
