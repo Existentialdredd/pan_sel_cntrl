{
 "cells": [
  {
   "cell_type": "code",
   "execution_count": 18,
   "metadata": {
    "collapsed": true
   },
   "outputs": [],
   "source": [
    "## Preamble: Package Loading\n",
    "import numpy as np\n",
    "import ipywidgets as ipw\n",
    "from IPython.display import display\n",
    "import matplotlib.pyplot as plt\n",
    "from matplotlib import gridspec\n",
    "import pandas as pd\n",
    "import json\n",
    "import kernel as kr\n",
    "import psc_sumdisp as psd \n",
    "# Preamble working directory retreival"
   ]
  },
  {
   "cell_type": "markdown",
   "metadata": {},
   "source": [
    "<h2>Trial Set 1: Varying the Number of Time Periods </h2> \n",
    "\n",
    "Here we examine the sampling distribution of $\\hat{\\beta}_1, \\hat{\\alpha}_{1}$ and $\\hat{\\alpha}_{2}$ as the number of time periods $T$ increases i.e. where $T \\in \\{30,50,70\\}$, while holding the following constant (amongst others shown below).\n",
    "\n",
    "* Number of Cross Sections: 5\n",
    "\n",
    "\n",
    "* Number of Endogenous Regressors: 2\n",
    "\n",
    "\n",
    "* Number of Exogenous Regressors: 2\n",
    "\n",
    "\n",
    "* Total Number of Instruments: 5\n",
    "\n",
    "\n",
    "* Number of Instrument Relevant to Each Cross Section: 3"
   ]
  },
  {
   "cell_type": "markdown",
   "metadata": {},
   "source": [
    "<h3> Trial Set 1: Data Loading and Organization </h3> "
   ]
  },
  {
   "cell_type": "code",
   "execution_count": 19,
   "metadata": {
    "collapsed": true
   },
   "outputs": [],
   "source": [
    "inpt_filenames0 = ['pscout_6_12_1954.json' ,'pscout_6_12_1220.json' , 'pscout_6_12_1799.json']\n",
    "line_nms0 = ['n=30', 'n=50' ,'n=70']\n",
    "\n",
    "res_out0 = [psd.psc_load(inpt_filenames0[i]) for i in range(len(inpt_filenames0))]\n",
    "estin_dcts0 = [res_out0[i][0] for i in range(len(inpt_filenames0))]\n",
    "dgp_sum_filenames0 = [ estin_dcts0[i]['input_filename'].replace('pscdata','pscsum')\n",
    "                      for i in range(len(inpt_filenames0))]\n",
    "dgp_dicts0 = [psd.pscsum_load(dgp_sum_filenames0[i]) \n",
    "             for i in range(len(dgp_sum_filenames0))]\n",
    "dgpin_dcts0 =  [dgp_dicts0[i][0] for i in range(len(inpt_filenames0))]\n",
    "merged_dcts0 = [{**estin_dcts0[i],**dgpin_dcts0[i]} for i in range(len(inpt_filenames0))]\n",
    "true_bcoeffs0 = [dgp_dicts0[i][1] for i in range(len(inpt_filenames0))]\n",
    "true_acoeffs0 = [dgp_dicts0[i][2] for i in range(len(inpt_filenames0))]\n",
    "bcoeff0  = [res_out0[i][1] for i in range(len(inpt_filenames0))]\n",
    "acoeff0  = [res_out0[i][3] for i in range(len(inpt_filenames0))]\n",
    "btables0 = [res_out0[i][2] for i in range(len(inpt_filenames0))]\n",
    "atables0 = [res_out0[i][4] for i in range(len(inpt_filenames0))]"
   ]
  },
  {
   "cell_type": "markdown",
   "metadata": {},
   "source": [
    "<h3> Trial Set 1: Merged DGP and Estimator Function Input Dictionary Comparison </h3> "
   ]
  },
  {
   "cell_type": "code",
   "execution_count": 20,
   "metadata": {
    "scrolled": false
   },
   "outputs": [
    {
     "data": {
      "application/vnd.jupyter.widget-view+json": {
       "model_id": "ab5304a857e443de80ec14a05ccb9172",
       "version_major": 2,
       "version_minor": 0
      },
      "text/plain": [
       "VBox(children=(IntSlider(value=1, description='Results Dataset: ', max=3, min=1, style=SliderStyle(description…"
      ]
     },
     "metadata": {},
     "output_type": "display_data"
    }
   ],
   "source": [
    "psd.indict_dsp(merged_dcts0,1)"
   ]
  },
  {
   "cell_type": "markdown",
   "metadata": {},
   "source": [
    "<h3> Trial Set 1: True Primary Equations Coefficients Comparison </h3>"
   ]
  },
  {
   "cell_type": "code",
   "execution_count": 21,
   "metadata": {
    "scrolled": true
   },
   "outputs": [
    {
     "data": {
      "application/vnd.jupyter.widget-view+json": {
       "model_id": "f5ff58f76ca640ca81e65605eaf9fa8d",
       "version_major": 2,
       "version_minor": 0
      },
      "text/plain": [
       "VBox(children=(IntSlider(value=1, description='Results Dataset: ', max=3, min=1, style=SliderStyle(description…"
      ]
     },
     "metadata": {},
     "output_type": "display_data"
    }
   ],
   "source": [
    "psd.indict_dsp(true_bcoeffs0,1)"
   ]
  },
  {
   "cell_type": "markdown",
   "metadata": {},
   "source": [
    "<h3> Trial Set 1: True Secondary Equation Coefficients Comparison </h3> "
   ]
  },
  {
   "cell_type": "code",
   "execution_count": 22,
   "metadata": {
    "scrolled": true
   },
   "outputs": [
    {
     "data": {
      "application/vnd.jupyter.widget-view+json": {
       "model_id": "d0d48b44ee964b0aaf996dda349174d7",
       "version_major": 2,
       "version_minor": 0
      },
      "text/plain": [
       "VBox(children=(IntSlider(value=1, description='Equation: ', max=2, min=1, style=SliderStyle(description_width=…"
      ]
     },
     "metadata": {},
     "output_type": "display_data"
    }
   ],
   "source": [
    "psd.indict_dsp(true_acoeffs0,2)"
   ]
  },
  {
   "cell_type": "markdown",
   "metadata": {},
   "source": [
    "<h3> Trial Set 1: Primary Function Coefficient Estimates </h3>"
   ]
  },
  {
   "cell_type": "code",
   "execution_count": 23,
   "metadata": {
    "scrolled": false
   },
   "outputs": [
    {
     "data": {
      "application/vnd.jupyter.widget-view+json": {
       "model_id": "daac426c1ead41bbb2750e1fa8b8aaf5",
       "version_major": 2,
       "version_minor": 0
      },
      "text/plain": [
       "VBox(children=(Output(), Output(), IntSlider(value=1, description='Coefficient:', layout=Layout(align_items='s…"
      ]
     },
     "metadata": {},
     "output_type": "display_data"
    }
   ],
   "source": [
    "display(psd.cfs_dsp(bcoeff0,btables0,1,12,line_nms0))"
   ]
  },
  {
   "cell_type": "markdown",
   "metadata": {},
   "source": [
    "<h3> Trial Set 1: Comments on Primary Function Coefficient Estimates </h3>"
   ]
  },
  {
   "cell_type": "code",
   "execution_count": null,
   "metadata": {
    "collapsed": true
   },
   "outputs": [],
   "source": []
  },
  {
   "cell_type": "markdown",
   "metadata": {},
   "source": [
    "<h3> Trial Set 1: Secondary Function Coefficient Estimates </h3>"
   ]
  },
  {
   "cell_type": "code",
   "execution_count": 24,
   "metadata": {
    "scrolled": false
   },
   "outputs": [
    {
     "data": {
      "application/vnd.jupyter.widget-view+json": {
       "model_id": "1496b48c908a4c12a4ce5db26ff1fc54",
       "version_major": 2,
       "version_minor": 0
      },
      "text/plain": [
       "VBox(children=(Output(), Output(), IntSlider(value=1, description='Coefficient:', layout=Layout(align_items='s…"
      ]
     },
     "metadata": {},
     "output_type": "display_data"
    }
   ],
   "source": [
    "display(psd.cfs_dsp(acoeff0,atables0,2,5,line_nms0))"
   ]
  },
  {
   "cell_type": "markdown",
   "metadata": {},
   "source": [
    "<h2> Trial Set 2: Varying the number of crossections </h2>"
   ]
  },
  {
   "cell_type": "markdown",
   "metadata": {},
   "source": [
    "<h3> Trial Set 2: Data Loading and Organization </h3> "
   ]
  },
  {
   "cell_type": "code",
   "execution_count": 25,
   "metadata": {
    "collapsed": true
   },
   "outputs": [],
   "source": [
    "inpt_filenames1 = ['pscout_6_12_1220.json' ,'pscout_6_13_1914.json'\n",
    "                   ,'pscout_6_13_1498.json','pscout_6_13_1227.json' ]\n",
    "line_nms1 = ['ncr = 5','ncr = 10', 'ncr = 15', 'ncr = 20']\n",
    "\n",
    "res_out1 = [psd.psc_load(inpt_filenames1[i]) for i in range(len(inpt_filenames1))]\n",
    "estin_dcts1 = [res_out1[i][0] for i in range(len(inpt_filenames1))]\n",
    "dgp_sum_filenames1 = [ estin_dcts1[i]['input_filename'].replace('pscdata','pscsum')\n",
    "                      for i in range(len(inpt_filenames1))]\n",
    "dgp_dicts1 = [psd.pscsum_load(dgp_sum_filenames1[i]) \n",
    "             for i in range(len(dgp_sum_filenames1))]\n",
    "merged_dcts1 = [{**estin_dcts0[i],**dgpin_dcts0[i]} for i in range(len(inpt_filenames0))]\n",
    "dgpin_dcts1 =  [dgp_dicts1[i][0] for i in range(len(inpt_filenames1))]\n",
    "true_bcoeffs1 = [dgp_dicts1[i][1] for i in range(len(inpt_filenames1))]\n",
    "true_acoeffs1 = [dgp_dicts1[i][2] for i in range(len(inpt_filenames1))]\n",
    "bcoeff1  = [res_out1[i][1] for i in range(len(inpt_filenames1))]\n",
    "acoeff1  = [res_out1[i][3] for i in range(len(inpt_filenames1))]\n",
    "btables1 = [res_out1[i][2] for i in range(len(inpt_filenames1))]\n",
    "atables1 = [res_out1[i][4] for i in range(len(inpt_filenames1))]"
   ]
  },
  {
   "cell_type": "markdown",
   "metadata": {},
   "source": [
    "<h3> Trial Set 2: DGP and Estimator Function Input Dictionary Comparison </h3> "
   ]
  },
  {
   "cell_type": "code",
   "execution_count": 26,
   "metadata": {
    "scrolled": false
   },
   "outputs": [
    {
     "data": {
      "application/vnd.jupyter.widget-view+json": {
       "model_id": "ddb811b3b8564b3ebaa676c495714724",
       "version_major": 2,
       "version_minor": 0
      },
      "text/plain": [
       "VBox(children=(IntSlider(value=1, description='Results Dataset: ', max=3, min=1, style=SliderStyle(description…"
      ]
     },
     "metadata": {},
     "output_type": "display_data"
    }
   ],
   "source": [
    "psd.indict_dsp(merged_dcts1,1)"
   ]
  },
  {
   "cell_type": "markdown",
   "metadata": {},
   "source": [
    "<h3> Trial Set 2: True Primary Equations Coefficients Comparison </h3>"
   ]
  },
  {
   "cell_type": "code",
   "execution_count": 27,
   "metadata": {
    "scrolled": true
   },
   "outputs": [
    {
     "data": {
      "application/vnd.jupyter.widget-view+json": {
       "model_id": "8beb2d5602ff44db8410557d2e5fba14",
       "version_major": 2,
       "version_minor": 0
      },
      "text/plain": [
       "VBox(children=(IntSlider(value=1, description='Results Dataset: ', max=4, min=1, style=SliderStyle(description…"
      ]
     },
     "metadata": {},
     "output_type": "display_data"
    }
   ],
   "source": [
    "psd.indict_dsp(true_bcoeffs1,1)"
   ]
  },
  {
   "cell_type": "markdown",
   "metadata": {},
   "source": [
    "<h3> Trial Set 2: True Secondary Equation Coefficients Comparison </h3> "
   ]
  },
  {
   "cell_type": "code",
   "execution_count": 28,
   "metadata": {
    "scrolled": false
   },
   "outputs": [
    {
     "data": {
      "application/vnd.jupyter.widget-view+json": {
       "model_id": "6205f75ff26647a2a6c19412f03f542f",
       "version_major": 2,
       "version_minor": 0
      },
      "text/plain": [
       "VBox(children=(IntSlider(value=1, description='Equation: ', max=2, min=1, style=SliderStyle(description_width=…"
      ]
     },
     "metadata": {},
     "output_type": "display_data"
    }
   ],
   "source": [
    "psd.indict_dsp(true_acoeffs1,2)"
   ]
  },
  {
   "cell_type": "markdown",
   "metadata": {},
   "source": [
    "<h3> Trial Set 2: Primary Function Coefficient Estimates </h3>"
   ]
  },
  {
   "cell_type": "code",
   "execution_count": 29,
   "metadata": {
    "scrolled": false
   },
   "outputs": [
    {
     "data": {
      "application/vnd.jupyter.widget-view+json": {
       "model_id": "5d6651c26aba43b7964888fb87e6bcce",
       "version_major": 2,
       "version_minor": 0
      },
      "text/plain": [
       "VBox(children=(Output(), Output(), IntSlider(value=1, description='Coefficient:', layout=Layout(align_items='s…"
      ]
     },
     "metadata": {},
     "output_type": "display_data"
    }
   ],
   "source": [
    "display(psd.cfs_dsp(bcoeff1,btables1,1,12,line_nms1))"
   ]
  },
  {
   "cell_type": "markdown",
   "metadata": {},
   "source": [
    "<h3> Trial Set 2: Secondary Function Coefficient Estimates </h3>"
   ]
  },
  {
   "cell_type": "code",
   "execution_count": 30,
   "metadata": {},
   "outputs": [
    {
     "data": {
      "application/vnd.jupyter.widget-view+json": {
       "model_id": "e249dc76f3b3435fbb06184ce47b58b3",
       "version_major": 2,
       "version_minor": 0
      },
      "text/plain": [
       "VBox(children=(Output(), Output(), IntSlider(value=1, description='Coefficient:', layout=Layout(align_items='s…"
      ]
     },
     "metadata": {},
     "output_type": "display_data"
    }
   ],
   "source": [
    "display(psd.cfs_dsp(acoeff1,atables1,2,8,line_nms1))"
   ]
  }
 ],
 "metadata": {
  "kernelspec": {
   "display_name": "Python 3",
   "language": "python",
   "name": "python3"
  },
  "language_info": {
   "codemirror_mode": {
    "name": "ipython",
    "version": 3
   },
   "file_extension": ".py",
   "mimetype": "text/x-python",
   "name": "python",
   "nbconvert_exporter": "python",
   "pygments_lexer": "ipython3",
   "version": "3.6.3"
  },
  "varInspector": {
   "cols": {
    "lenName": 16,
    "lenType": 16,
    "lenVar": 40
   },
   "kernels_config": {
    "python": {
     "delete_cmd_postfix": "",
     "delete_cmd_prefix": "del ",
     "library": "var_list.py",
     "varRefreshCmd": "print(var_dic_list())"
    },
    "r": {
     "delete_cmd_postfix": ") ",
     "delete_cmd_prefix": "rm(",
     "library": "var_list.r",
     "varRefreshCmd": "cat(var_dic_list()) "
    }
   },
   "types_to_exclude": [
    "module",
    "function",
    "builtin_function_or_method",
    "instance",
    "_Feature"
   ],
   "window_display": false
  }
 },
 "nbformat": 4,
 "nbformat_minor": 2
}
