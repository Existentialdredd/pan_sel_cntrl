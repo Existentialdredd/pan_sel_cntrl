{
 "cells": [
  {
   "cell_type": "code",
   "execution_count": 1,
   "metadata": {
    "collapsed": true
   },
   "outputs": [],
   "source": [
    "## Preamble: Package Loading\n",
    "import numpy as np\n",
    "from sklearn import linear_model\n",
    "from IPython.display import display\n",
    "import matplotlib.pyplot as plt\n",
    "from matplotlib import gridspec\n",
    "import pandas as pd\n",
    "import itertools as iter\n",
    "import os\n",
    "import datetime as dt\n",
    "import json\n",
    "# Preamble working directory retreival\n",
    "wkng_folder = os.getcwd()"
   ]
  },
  {
   "cell_type": "markdown",
   "metadata": {},
   "source": [
    "<h2>Estimator With Only ScikitLearn Lasso</h2>"
   ]
  },
  {
   "cell_type": "code",
   "execution_count": 2,
   "metadata": {},
   "outputs": [],
   "source": [
    "# dp = data_pan\n",
    "# di = data_inst\n",
    "# de = data_err\n",
    "\n",
    "# dep_nm = inpt['en_nm']\n",
    "# ex_nm = inpt['ex_nm']\n",
    "# n_exo = inpt['n_exo']\n",
    "# ins_nm = list(di.columns)[1:]\n",
    "# adep_nm = [ 0 for i in range(len(dep_nm))]\n",
    "# epsil = 0.05\n",
    "# ain_cf = [ 0 for i in range(len(dep_nm))]\n",
    "# ain_cf_rm = [ 0 for i in range(len(dep_nm))]\n",
    "# excf1 = []\n",
    "\n",
    "# for g in range(len(ex_nm)):\n",
    "#     excf1 = []\n",
    "#     for k in range(inpt['ncs']):\n",
    "#         dsl = dp.loc[dp['crs']==k+1,['t'] + [dep_nm[g]] + ex_nm]\n",
    "#         dsl = pd.merge(dsl,di,how =\"inner\", on='t')\n",
    "#         lin_reg = linear_model.LinearRegression()\n",
    "#         lin_reg.fit(dsl.loc[:,ex_nm+ins_nm].values,dsl.loc[:,dep_nm[g]].values.reshape(dsl.shape[0],1))\n",
    "#         excf1.append([lin_reg.coef_[0][i] for i in range(inpt['n_exo'])])\n",
    "\n",
    "#     incf = [0 for i in range(inpt['t_inst'])]    \n",
    "#     excf = [np.mean([excf1[i][j] for i in range(len(excf1))] ) for j in range(n_exo)]\n",
    "\n",
    "#     adep_nm[g] = ''.join(['a',dep_nm[g]])\n",
    "#     dp[adep_nm[g]] = (dp.loc[:,dep_nm[g]].values.reshape(dp.shape[0],1)\n",
    "#                      -dp.loc[:,ex_nm].values.dot(np.array(excf).reshape(inpt['n_exo'],1)))\n",
    "    \n",
    "#     ain_cf1= []\n",
    "#     for k in range(inpt['ncs']):\n",
    "#         ds2 = dp.loc[dp['crs']==k+1,['t'] + [adep_nm[g]] ]\n",
    "#         ds2 = pd.merge(ds2,data_inst,how =\"inner\", on='t')\n",
    "#         lasso_reg = linear_model.Lasso(alpha = 0.4)\n",
    "#         lasso_reg.fit(ds2.loc[:,ins_nm].values,ds2.loc[:,adep_nm[g]].values.reshape(ds2.shape[0],1))\n",
    "#         ain_cf1.append(list(lasso_reg.coef_))\n",
    "\n",
    "#     ain_cf[g] = excf\n",
    "#     for j in  range(len(ain_cf1[0])): \n",
    "#         a = [ain_cf1[i][j] for i in range(len(ain_cf1)) if np.abs(ain_cf1[i][j]) > epsil]\n",
    "#         if not a:\n",
    "#             ain_cf[g].append(0)\n",
    "#         else:\n",
    "#             ain_cf[g].append(np.mean(a))    \n",
    "\n",
    "#     ain_cf_rm[g] = [[1,1] + [int(np.abs(ain_cf1[j][i])>epsil) \n",
    "#                             for i in range(len(ain_cf1[0]))] \n",
    "#                             for j in range(len(ain_cf1))]"
   ]
  },
  {
   "cell_type": "code",
   "execution_count": 3,
   "metadata": {
    "scrolled": false
   },
   "outputs": [],
   "source": [
    "#ain_cf"
   ]
  },
  {
   "cell_type": "code",
   "execution_count": 4,
   "metadata": {
    "scrolled": true
   },
   "outputs": [],
   "source": [
    "#pd.DataFrame(ain_cf1)"
   ]
  },
  {
   "cell_type": "markdown",
   "metadata": {},
   "source": [
    "<h2> 2 Required Functions </h2>"
   ]
  },
  {
   "cell_type": "markdown",
   "metadata": {},
   "source": [
    "<h3> 2.1 OLS function </h3>"
   ]
  },
  {
   "cell_type": "code",
   "execution_count": 5,
   "metadata": {
    "collapsed": true
   },
   "outputs": [],
   "source": [
    "def ols(df,inpt):\n",
    "    \"\"\"\n",
    "INPUTS\n",
    "df                (pandas df) Data Frame with all regressors\n",
    "inpt              (dict) Dictionary with the following\n",
    "  inpt['dep']     (string) Name of dependent variable contained in df\n",
    "  inpt['reg']     (list of strings) names of regressors in df \n",
    "  inpt['cons']    (0,1) Indicator for whether a constant should be included\n",
    "\n",
    "OUTPUTS \n",
    "out               (list of lists) List of the following\n",
    "  out[0]          (list) Estimated coefficients\n",
    "  out[1]          (list) Residuals\n",
    "  out[2]          (list) Estimated conditional expectation\n",
    "    \"\"\"\n",
    "    # Extracting input variables\n",
    "    dep = inpt['dep']\n",
    "    reg = inpt['reg']\n",
    "    cons = inpt['cons']\n",
    "    # Determining length of df (number of obs)\n",
    "    n = df.shape[0]\n",
    "    # Extracting Dependent Variable from df\n",
    "    Y = df.loc[:,dep].values.reshape(n,1)\n",
    "    # Extracting Regressors from df\n",
    "    if len(reg) == 1:\n",
    "        X = df.loc[:,reg].values.reshape(n,1)\n",
    "    elif len(reg) > 1: \n",
    "        X = df.loc[:,reg].values\n",
    "    # Adding column of ones if a constant is included\n",
    "    if cons == 1: \n",
    "        X = np.hstack((np.ones((n,1)),X))\n",
    "    # Estimated regression coefficients\n",
    "    alpha = np.linalg.inv(X.T.dot(X)).dot(X.T.dot(Y))\n",
    "    # Estimated Conditional Expectation\n",
    "    Yhat = X.dot(alpha)\n",
    "    # Residuals of the regression\n",
    "    res = Y - X.dot(alpha)\n",
    "    # Constructing output list of lists\n",
    "    out = [alpha.T.tolist()[0],res.T.tolist()[0],Yhat.T.tolist()[0]]\n",
    "    return out"
   ]
  },
  {
   "cell_type": "markdown",
   "metadata": {},
   "source": [
    "<h3> 2.2 Panel Data Estimator </h3>\n",
    "\n",
    "This function will perform lasso estimation based on the value of inpt['lasso']"
   ]
  },
  {
   "cell_type": "code",
   "execution_count": 6,
   "metadata": {},
   "outputs": [],
   "source": [
    "def panel_fe(dp_in,di_in,inpt):\n",
    "    \"\"\"\n",
    "INPUTS\n",
    "dp_in                     (pandas df) df with dependent var. and all exogenous regs\n",
    "di_in                     (pandas df) df with all instruments\n",
    "inpt                      (dict) Dictionary with the following\n",
    "  inpt['dep']               (string) Name of dependent variable contained in dp\n",
    "  inpt['reg']               (list of strings) names of exogenous regressors\n",
    "  inpt['cin']               (string) name of crossection index in dp\n",
    "  inpt['tin']               (string) name of time index in dp\n",
    "  inpt['ncs']               (int) number of crossections\n",
    "  inpt['alph']              (flt) penalty value for lasso estimation\n",
    "  inpt['epsil']             (flt)  threshold for averaging \"non zero\" coefficients\n",
    "  inpt['lasso']             (int) indicator for whether subset selection with lasso is done\n",
    "  inpt['in_nm']             (list of lists of strings) with the following components\n",
    "    input['in_nm'][i-1]       (list of names) names of instruments relevant to crs i \n",
    "  \n",
    "\n",
    "OUTPUTS \n",
    "out               (list of lists) List of the following\n",
    "  out[0]          (list) Estimated coefficients\n",
    "  out[1]          (list) list of all relevant instrument\n",
    "  out[2]          (list) Estimated error terms Vi_j\n",
    "    \"\"\"\n",
    "\n",
    "    ## Extracting Variables from inpt dictionary\n",
    "    dep = inpt['dep']\n",
    "    reg = inpt['reg']\n",
    "    in_nm = inpt['in_nm']\n",
    "    cin = inpt['cin']\n",
    "    tin = inpt['tin']\n",
    "    ncs = inpt['ncs']\n",
    "    lasso = inpt['lasso']\n",
    "    di  = di_in\n",
    "    dp  = dp_in\n",
    "\n",
    "    ## Constructing a df of all instrument relevant to at least 1 crossection\n",
    "    # Initializing the set of all included instruments as the 1st set relevant inst\n",
    "    inc = set(in_nm[0])\n",
    "    # Collecting rest of relevant instruments\n",
    "    for i in range(len(in_nm)):\n",
    "        # Union of inc and ith set of relevant instruments\n",
    "        inc = inc|set(in_nm[i])\n",
    "    # All included Instruments listed in order index order\n",
    "    inc = [''.join(['W',str(i)]) for i in range(1,di.shape[1]) if ''.join(['W',str(i)]) in inc]\n",
    "    # df with time index and all included instruments\n",
    "    di_inc = di.loc[:,[tin] + inc]\n",
    "\n",
    "    # List of logical vectors (as list) of which instruments in inc are relevant to ith crs\n",
    "    in_vec = [[ 1 if inc[i] in in_nm[j] else 0 for i in range(len(inc))]\n",
    "                  for j in range(ncs)]\n",
    "\n",
    "    # First differenced included instrument df\n",
    "    Di = di_inc.loc[:,[tin]]\n",
    "    for j in range(0,len(inc)):\n",
    "        # Adding D to name of jth instrument in inc\n",
    "        D_nm = ''.join(['D', di_inc.columns[j+1]])\n",
    "        # First difference of jth instrument in inc\n",
    "        Di[D_nm] = (di_inc.loc[:,di_inc.columns[j+1]].values \n",
    "                    - di_inc.loc[:,di_inc.columns[j+1]].shift(1).values)\n",
    "\n",
    "    ## Constructing Panel Version of relevant instrument data\n",
    "    for i in range(ncs):\n",
    "        # Initializing differenced panel template df\n",
    "        a1 = Di.loc[:,tin].copy()\n",
    "        # Adding the crossection variable\n",
    "        a1 = pd.concat([a1,pd.DataFrame(np.ones((di_inc.shape[0],1))*(i+1)\n",
    "                                        ,columns = [cin])],axis = 1)\n",
    "        # Initializing the panel template df\n",
    "        b1 = a1\n",
    "        # Product of Di with in_vec[i-1] s.t. inst. not relevant to i are zero \n",
    "        a2 = pd.DataFrame(Di.iloc[:,1:].values.dot(np.diag(in_vec[i]))\n",
    "                          ,columns = Di.columns[1:])\n",
    "        # Product of di_inc with in_vec[i-1] s.t. inst. not relevant to i are zero\n",
    "        b2 = pd.DataFrame(di_inc.iloc[:,1:].values.dot(np.diag(in_vec[i]))\n",
    "                          ,columns = di_inc.columns[1:])\n",
    "        # Concatenating a2 onto panel template adding [cin] and [tin]\n",
    "        a2 = pd.concat([a1,a2],axis = 1)\n",
    "        # Concatenating b2 onto panel template adding [cin] and [tin]\n",
    "        b2 = pd.concat([b1,b2],axis = 1)\n",
    "        if i == 0:\n",
    "            # if  i = 0 initialize final differenced panel df\n",
    "            Ddi_pan = a2.iloc[1:,:]\n",
    "            # if i = 0 initialize final panel df\n",
    "            di_pan = b2\n",
    "        elif i > 0: \n",
    "            # if i > 0 add ith crosssection rows onto final\n",
    "            Ddi_pan = pd.concat([Ddi_pan,a2.iloc[1:,:]], axis = 0)\n",
    "            # if i > 0 add ith crosssection rows onto final\n",
    "            di_pan =  pd.concat([di_pan,b2], axis = 0)\n",
    "\n",
    "    ## First Difference dependent and exogenous regressor matrix..\n",
    "    for i in range(1,ncs+1):\n",
    "        # Initializing panle template df\n",
    "        c1 = dp.loc[dp[cin]== i,[cin]+[tin]].copy() \n",
    "        # First differencing al relevant variables for i crs\n",
    "        for j in [inpt['dep']] + inpt['reg']:\n",
    "            c1[''.join(['D',j])] = (dp.loc[dp[cin]== i,j].values \n",
    "                        - dp.loc[dp[cin]== i,j].shift(1).values)\n",
    "        if i == 1:\n",
    "            # If i = 1 initialize final panel df\n",
    "            c2 = c1.iloc[1:,:]  \n",
    "        elif i > 1:\n",
    "            # If i > 1 add onto final panel df\n",
    "            c2 = pd.concat([c2,c1.iloc[1:,:]],axis = 0)\n",
    "\n",
    "    ## OLS estimation\n",
    "    # Merging all differenced panel df's together\n",
    "    Ddi_pan = pd.merge(c2,Ddi_pan,on=[cin,tin],how = 'inner')\n",
    "    # List of all regressor names in Ddi_pan for use in ols()\n",
    "    Dregs = ([''.join(['D',reg[i]]) for i in range(len(reg))] \n",
    "            + [''.join(['D',inc[i]]) for i in range(len(inc))])\n",
    "    # Dictionary for input into ols()\n",
    "    inpt_ols = {'dep': ''.join(['D',dep]) , 'reg': Dregs, 'cons': 0}\n",
    "    ## Lasso Estimation\n",
    "    l_inpt = {'dep': ''.join(['D',dep]),\n",
    "                  'ex_nm': [''.join(['D',reg[i]]) for i in range(len(reg))],\n",
    "                  'ins_nm': [''.join(['D',inc[i]]) for i in range(len(inc))],\n",
    "                  'alph': inpt['alph'],\n",
    "                  'ncs':inpt['ncs'],\n",
    "                  'epsil':inpt['epsil']\n",
    "                 }\n",
    "    # Names of all exogenous regressor and inst. included in di_pan\n",
    "    regs = ([ reg[i] for i in range(len(reg))] \n",
    "            + [ inc[i] for i in range(len(inc))])\n",
    "\n",
    "    # Constucting a panel df of esitmated errors Vj,i\n",
    "    for i in range(1,ncs+1):\n",
    "        # np.array of dep variable values for ith crs\n",
    "        d1 = dp.loc[dp[cin] == i,[dep]].values\n",
    "        # df of exogenous regressor values for ith crs\n",
    "        d21 = dp.loc[dp[cin] == i ,[cin]+[tin]+reg]\n",
    "        # included instruments panel with indexes for i \n",
    "        d22 = di_pan.loc[di_pan[cin] == i,[cin]+[tin]+inc]\n",
    "        # merging d21 and d22 making a df with all RHS regressors \n",
    "        d23 = pd.merge(d21,d22,on = [cin,tin], how = 'inner')\n",
    "        if lasso==1:\n",
    "            # Estimation by panel lasso\n",
    "            out = pan_lasso(Ddi_pan,l_inpt)\n",
    "            # Extracting estimated coefficients\n",
    "            e_cf = np.array(out[0]).reshape(len(out[0]),1)\n",
    "            # Zeroing out columns which we not selected by the lasso\n",
    "            d23_1 = d23.drop([cin,tin],axis=1).values.dot(np.diag(out[1][0]))\n",
    "            # Generating fitted values\n",
    "            d2 = d23_1.dot(e_cf)\n",
    "        elif lasso==0:\n",
    "            # Estimation by ols()\n",
    "            ols_out = ols(Ddi_pan,inpt_ols)\n",
    "            # Estimated coefficient from estimator above \n",
    "            e_cf = np.array(ols_out[0]).reshape(len(ols_out[0]),1)\n",
    "            # Estimated time varying component of dependent variable\n",
    "            d2 = d23.drop([cin,tin],axis = 1).values.dot(e_cf)\n",
    "        # Residual of time varying component \n",
    "        d3 = d1.reshape(d1.shape[0],1) - d2\n",
    "        # Centered residula of time varying component\n",
    "        d3 = d3 - np.mean(d3)\n",
    "        if i == 1:\n",
    "            # if i = 1 initialize panel df\n",
    "            p_res = [list(d3.T[0])]\n",
    "        elif i > 1:\n",
    "            # if i > 1 add onto p_res\n",
    "            p_res.append(list(d3.T[0]))\n",
    "\n",
    "    # Output of the function\n",
    "    out = [list(e_cf.T[0]), inc , p_res ]\n",
    "    return out"
   ]
  },
  {
   "cell_type": "markdown",
   "metadata": {},
   "source": [
    "<h3> 2.4 Lasso Panel Estimator </h3>"
   ]
  },
  {
   "cell_type": "code",
   "execution_count": 7,
   "metadata": {},
   "outputs": [],
   "source": [
    "def pan_lasso(l_dp,l_inpt):\n",
    "    \"\"\"\n",
    "INPUTS\n",
    "l_dp                 dataframe of all panel regression variables \n",
    "l_inpt               dictionary with the following elements\n",
    "  l_inpt['dep']        (str) name of dependent variable\n",
    "  l_inpt['ex_nm']      (str) name of all exogenous variables\n",
    "  l_inpt['ins_nm']     (str) name of all instruments\n",
    "  l_inpt['alph']       (flt) lasso penalty parameter\n",
    "  l_inpt['ncs']        (int) number of cross sections\n",
    "  l_inpt['epsil']      (flt) threshold for averaging \"non zero\" coefficients\n",
    "  \n",
    "OUTPUTS\n",
    "out            (list) with the following elements\n",
    " out[0]        (list) Estimated coefficients\n",
    " out[1]        (list) containing the following elements\n",
    "   out[1][j]   (list) binary vector indicating the non zero ceofficients for each crs\n",
    "    \"\"\"\n",
    "    l_dep_nm = l_inpt['dep']\n",
    "    l_ex_nm = l_inpt['ex_nm']\n",
    "    l_ins_nm = l_inpt['ins_nm']\n",
    "    l_alph = l_inpt['alph']\n",
    "    l_epsil = l_inpt['epsil']\n",
    "    n_exo = len(l_ex_nm)\n",
    "    ncs = l_inpt['ncs']\n",
    "    t_inst = len(l_ins_nm)\n",
    "    excf1 = []\n",
    "\n",
    "    for k in range(inpt['ncs']):\n",
    "        dsl = l_dp.loc[l_dp['crs']==k+1,:]\n",
    "        lin_reg = linear_model.LinearRegression()\n",
    "        lin_reg.fit(dsl.loc[:,l_ex_nm+l_ins_nm].values,\n",
    "                    dsl.loc[:,l_dep_nm].values.reshape(dsl.shape[0],1))\n",
    "        excf1.append([lin_reg.coef_[0][i] for i in range(n_exo)])\n",
    "\n",
    "    incf = [0 for i in range(t_inst)]    \n",
    "    excf = [np.mean([excf1[i][j] for i in range(len(excf1))]) for j in range(n_exo)]\n",
    "\n",
    "    adep_nm = ''.join(['a',l_dep_nm])\n",
    "    l_dp[adep_nm] = (l_dp.loc[:,l_dep_nm].values.reshape(l_dp.shape[0],1)\n",
    "                     -l_dp.loc[:,l_ex_nm].values.dot(np.array(excf).reshape(n_exo,1)))\n",
    "\n",
    "    ain_cf1= []\n",
    "    for k in range(ncs):\n",
    "        ds2 = l_dp.loc[l_dp['crs']==k+1,:]\n",
    "        lasso_reg = linear_model.Lasso(alpha = 0.4)\n",
    "        lasso_reg.fit(ds2.loc[:,l_ins_nm].values,\n",
    "                      ds2.loc[:,adep_nm].values.reshape(ds2.shape[0],1))\n",
    "        ain_cf1.append(list(lasso_reg.coef_))\n",
    "\n",
    "    ain_cf = excf\n",
    "    for j in range(len(ain_cf1[0])): \n",
    "        a = [ain_cf1[i][j] for i in range(len(ain_cf1)) if np.abs(ain_cf1[i][j]) > l_epsil]\n",
    "        if not a:\n",
    "            ain_cf.append(0)\n",
    "        else:\n",
    "            ain_cf.append(np.mean(a))    \n",
    "\n",
    "    ain_cf_rm = [[1,1] + [int(np.abs(ain_cf1[j][i])>l_epsil) \n",
    "                            for i in range(len(ain_cf1[0]))] \n",
    "                           for j in range(len(ain_cf1))]\n",
    "    out = [ain_cf, ain_cf_rm]\n",
    "    return out"
   ]
  },
  {
   "cell_type": "markdown",
   "metadata": {},
   "source": [
    "<h2> 3 Setup and Functions Call </h2>"
   ]
  },
  {
   "cell_type": "markdown",
   "metadata": {},
   "source": [
    "<h3> 3.1 Data Loading </h3>"
   ]
  },
  {
   "cell_type": "code",
   "execution_count": 8,
   "metadata": {
    "collapsed": true
   },
   "outputs": [],
   "source": [
    "input_filename = 'pscdata_6_13_1280.json'\n",
    "data_file = '/Users/ericpenner/Google_Drive/Research/pan_sel_cntrl/data'\n",
    "input_file_full = ''.join([data_file,'/',input_filename])\n",
    "with open(input_file_full) as f_obj: \n",
    "    pscdata = json.load(f_obj)\n",
    "inpt = pscdata[0][0].copy()    "
   ]
  },
  {
   "cell_type": "markdown",
   "metadata": {},
   "source": [
    "<h3> 3.2 Input Dictionary Setup </h3>"
   ]
  },
  {
   "cell_type": "code",
   "execution_count": 9,
   "metadata": {
    "collapsed": true
   },
   "outputs": [],
   "source": [
    "# Indicator for  whether in this run the subset of instrument relvant to each crs is known.\n",
    "inpt['kwnsub'] = 0 \n",
    "\n",
    "# Indicator for whether residuals are observed\n",
    "inpt['orcl'] = 0\n",
    "inpt['lasso'] = 1\n",
    "inpt['dep'] = inpt['en_nm'][0]\n",
    "inpt['reg'] = inpt['ex_nm']\n",
    "inpt['alph'] = 0.4\n",
    "inpt['epsil'] = 0.05\n",
    "# List of list with the names of the relevant instruments for each crossection\n",
    "in_nm=[]\n",
    "for i in range(inpt['ncs']):\n",
    "    # If the subset is known then list of relevant inst. for each crs is supplied to estimator\n",
    "    if inpt['kwnsub'] == 1:\n",
    "        a=[ True if pscdata[0][1]['coeff'][0][i][k]!=0 else False \n",
    "            for k in range(inpt['n_exo'],inpt['n_exo']+inpt['t_inst'])]\n",
    "        in_nm.append(np.array(pscdata[0][1]['Dins_nms'][1:])[a].tolist())\n",
    "    # If the subset is unknown then list of all inst. will be supplied to est. for each crs\n",
    "    else:\n",
    "        in_nm.append(pscdata[0][1]['Dins_nms'][1:])\n",
    "inpt['in_nm'] = in_nm"
   ]
  },
  {
   "cell_type": "markdown",
   "metadata": {},
   "source": [
    "<h3> 3.3 Data Set Extraction and Function Call </h3>"
   ]
  },
  {
   "cell_type": "code",
   "execution_count": 10,
   "metadata": {},
   "outputs": [],
   "source": [
    "k=10\n",
    "data_err = pd.DataFrame(pscdata[k][0]['err_df'], columns = pscdata[0][1]['Derr_nms'])  \n",
    "data_inst = pd.DataFrame(pscdata[k][0]['inst_df'], columns = pscdata[0][1]['Dins_nms'])\n",
    "data_pan = pd.DataFrame(pscdata[k][0]['prim_df'], columns = pscdata[0][1]['Dlng_nms'])\n",
    "c = panel_fe(data_pan,data_inst,inpt)\n"
   ]
  },
  {
   "cell_type": "code",
   "execution_count": 11,
   "metadata": {
    "collapsed": true,
    "scrolled": false
   },
   "outputs": [],
   "source": [
    "#pd.DataFrame(pscdata[0][1]['coeff'][1])"
   ]
  },
  {
   "cell_type": "code",
   "execution_count": 13,
   "metadata": {},
   "outputs": [
    {
     "data": {
      "text/plain": [
       "50"
      ]
     },
     "execution_count": 13,
     "metadata": {},
     "output_type": "execute_result"
    }
   ],
   "source": [
    "i=1\n",
    "V_est = c[2][i-1])\n",
    "V_true = data_err.loc[data_err['crs']==i,'V1'].values\n",
    "p_est = np.linspace(np.min(V_est),np.max(V_est),100)\n",
    "p_true = np.linspace(np.min(V_True),np.max(V_true),100)\n",
    "V_est_den"
   ]
  },
  {
   "cell_type": "code",
   "execution_count": 16,
   "metadata": {},
   "outputs": [
    {
     "data": {
      "text/plain": [
       "0    -0.048845\n",
       "1    -0.861699\n",
       "2     0.333906\n",
       "3     0.135777\n",
       "4    -1.256657\n",
       "5    -1.452208\n",
       "6    -1.700674\n",
       "7     0.147714\n",
       "8    -0.970947\n",
       "9    -0.743798\n",
       "10   -0.707527\n",
       "11    0.224626\n",
       "12   -1.751541\n",
       "13   -2.181928\n",
       "14    0.877785\n",
       "15   -0.392551\n",
       "16    0.310580\n",
       "17   -0.175215\n",
       "18    1.760126\n",
       "19   -1.085479\n",
       "20   -1.778861\n",
       "21   -1.673126\n",
       "22   -1.205946\n",
       "23    0.335425\n",
       "24    0.060591\n",
       "25   -0.311885\n",
       "26    0.206760\n",
       "27   -0.074435\n",
       "28    0.904606\n",
       "29   -0.090638\n",
       "30   -0.843032\n",
       "31    0.343127\n",
       "32    0.389974\n",
       "33   -1.009744\n",
       "34    0.214224\n",
       "35    0.369414\n",
       "36    1.173188\n",
       "37    0.173640\n",
       "38    0.433457\n",
       "39   -0.227230\n",
       "40   -1.448762\n",
       "41    0.482684\n",
       "42    0.082247\n",
       "43    0.410338\n",
       "44   -0.527063\n",
       "45    1.010644\n",
       "46    0.278509\n",
       "47   -1.492357\n",
       "48    0.467695\n",
       "49   -0.260006\n",
       "Name: V1, dtype: float64"
      ]
     },
     "execution_count": 16,
     "metadata": {},
     "output_type": "execute_result"
    }
   ],
   "source": []
  },
  {
   "cell_type": "code",
   "execution_count": null,
   "metadata": {
    "collapsed": true
   },
   "outputs": [],
   "source": []
  }
 ],
 "metadata": {
  "kernelspec": {
   "display_name": "Python 3",
   "language": "python",
   "name": "python3"
  },
  "language_info": {
   "codemirror_mode": {
    "name": "ipython",
    "version": 3
   },
   "file_extension": ".py",
   "mimetype": "text/x-python",
   "name": "python",
   "nbconvert_exporter": "python",
   "pygments_lexer": "ipython3",
   "version": "3.6.3"
  },
  "varInspector": {
   "cols": {
    "lenName": 16,
    "lenType": 16,
    "lenVar": 40
   },
   "kernels_config": {
    "python": {
     "delete_cmd_postfix": "",
     "delete_cmd_prefix": "del ",
     "library": "var_list.py",
     "varRefreshCmd": "print(var_dic_list())"
    },
    "r": {
     "delete_cmd_postfix": ") ",
     "delete_cmd_prefix": "rm(",
     "library": "var_list.r",
     "varRefreshCmd": "cat(var_dic_list()) "
    }
   },
   "types_to_exclude": [
    "module",
    "function",
    "builtin_function_or_method",
    "instance",
    "_Feature"
   ],
   "window_display": false
  }
 },
 "nbformat": 4,
 "nbformat_minor": 2
}
