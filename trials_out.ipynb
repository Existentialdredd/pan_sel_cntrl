{
 "cells": [
  {
   "cell_type": "code",
   "execution_count": 1,
   "metadata": {},
   "outputs": [],
   "source": [
    "## Preamble: Package Loading\n",
    "import numpy as np\n",
    "import ipywidgets as ipw\n",
    "from IPython.display import display\n",
    "import matplotlib.pyplot as plt\n",
    "from matplotlib import gridspec\n",
    "import pandas as pd\n",
    "import json\n",
    "import kernel as kr\n",
    "import psc_sumdisp as psd \n",
    "# Preamble working directory retreival"
   ]
  },
  {
   "cell_type": "markdown",
   "metadata": {},
   "source": [
    "<h2>Trial Set 1: Varying Number of Time Periods </h2> "
   ]
  },
  {
   "cell_type": "markdown",
   "metadata": {},
   "source": [
    "<h3> Trial Set 1: Data Loading and Organization </h3> "
   ]
  },
  {
   "cell_type": "code",
   "execution_count": 10,
   "metadata": {
    "collapsed": true
   },
   "outputs": [],
   "source": [
    "inpt_filenames0 = ['pscout_6_12_1954.json' ,'pscout_6_12_1220.json' , 'pscout_6_12_1799.json']\n",
    "line_nms0 = ['n=30', 'n=50' ,'n=70']\n",
    "\n",
    "res_out0 = [psd.psc_load(inpt_filenames0[i]) for i in range(len(inpt_filenames0))]\n",
    "estin_dcts0 = [res_out0[i][0] for i in range(len(inpt_filenames0))]\n",
    "dgp_sum_filenames0 = [ estin_dcts0[i]['input_filename'].replace('pscdata','pscsum')\n",
    "                      for i in range(len(inpt_filenames0))]\n",
    "dgp_dicts0 = [psd.pscsum_load(dgp_sum_filenames0[i]) \n",
    "             for i in range(len(dgp_sum_filenames0))]\n",
    "dgpin_dcts0 =  [dgp_dicts0[i][0] for i in range(len(inpt_filenames0))]\n",
    "merged_dcts0 = [{**estin_dcts0[i],**dgpin_dcts0[i]} for i in range(len(inpt_filenames0))]\n",
    "true_bcoeffs0 = [dgp_dicts0[i][1] for i in range(len(inpt_filenames0))]\n",
    "true_acoeffs0 = [dgp_dicts0[i][2] for i in range(len(inpt_filenames0))]\n",
    "bcoeff0  = [res_out0[i][1] for i in range(len(inpt_filenames0))]\n",
    "acoeff0  = [res_out0[i][3] for i in range(len(inpt_filenames0))]\n",
    "btables0 = [res_out0[i][2] for i in range(len(inpt_filenames0))]\n",
    "atables0 = [res_out0[i][4] for i in range(len(inpt_filenames0))]"
   ]
  },
  {
   "cell_type": "markdown",
   "metadata": {},
   "source": [
    "<h3> Trial Set 1: Merged DGP and Estimator Function Input Dictionary Comparison </h3> "
   ]
  },
  {
   "cell_type": "code",
   "execution_count": 11,
   "metadata": {
    "scrolled": false
   },
   "outputs": [
    {
     "data": {
      "application/vnd.jupyter.widget-view+json": {
       "model_id": "9718584113be4d099729d5c83ecd2308",
       "version_major": 2,
       "version_minor": 0
      },
      "text/plain": [
       "VBox(children=(IntSlider(value=1, description='Results Dataset: ', max=3, min=1, style=SliderStyle(description…"
      ]
     },
     "metadata": {},
     "output_type": "display_data"
    }
   ],
   "source": [
    "psd.indict_dsp(merged_dcts0,1)"
   ]
  },
  {
   "cell_type": "markdown",
   "metadata": {},
   "source": [
    "<h3> Trial Set 1: True Primary Equations Coefficients Comparison </h3>"
   ]
  },
  {
   "cell_type": "code",
   "execution_count": 5,
   "metadata": {
    "scrolled": true
   },
   "outputs": [
    {
     "data": {
      "application/vnd.jupyter.widget-view+json": {
       "model_id": "6e127c6b74cd436a940c4d37f94a20e9",
       "version_major": 2,
       "version_minor": 0
      },
      "text/plain": [
       "VBox(children=(IntSlider(value=1, description='Results Dataset: ', max=3, min=1, style=SliderStyle(description…"
      ]
     },
     "metadata": {},
     "output_type": "display_data"
    }
   ],
   "source": [
    "psd.indict_dsp(true_bcoeffs0,1)"
   ]
  },
  {
   "cell_type": "markdown",
   "metadata": {},
   "source": [
    "<h3> Trial Set 1: True Secondary Equation Coefficients Comparison </h3> "
   ]
  },
  {
   "cell_type": "code",
   "execution_count": 6,
   "metadata": {
    "scrolled": true
   },
   "outputs": [
    {
     "data": {
      "application/vnd.jupyter.widget-view+json": {
       "model_id": "26351b96fee640de8fe710d831efaf75",
       "version_major": 2,
       "version_minor": 0
      },
      "text/plain": [
       "VBox(children=(IntSlider(value=1, description='Equation: ', max=2, min=1, style=SliderStyle(description_width=…"
      ]
     },
     "metadata": {},
     "output_type": "display_data"
    }
   ],
   "source": [
    "psd.indict_dsp(true_acoeffs0,2)"
   ]
  },
  {
   "cell_type": "markdown",
   "metadata": {},
   "source": [
    "<h3> Trial Set 1: Primary Function Coefficient Estimates </h3>"
   ]
  },
  {
   "cell_type": "code",
   "execution_count": 7,
   "metadata": {
    "scrolled": false
   },
   "outputs": [
    {
     "data": {
      "application/vnd.jupyter.widget-view+json": {
       "model_id": "351ddf5a654a4e99803ae081ec7c40a4",
       "version_major": 2,
       "version_minor": 0
      },
      "text/plain": [
       "VBox(children=(Output(), Output(), IntSlider(value=1, description='Coefficient:', layout=Layout(align_items='s…"
      ]
     },
     "metadata": {},
     "output_type": "display_data"
    }
   ],
   "source": [
    "display(psd.cfs_dsp(bcoeff0,btables0,1,12,line_nms0))"
   ]
  },
  {
   "cell_type": "markdown",
   "metadata": {},
   "source": [
    "<h3> Trial Set 1: Secondary Function Coefficient Estimates </h3>"
   ]
  },
  {
   "cell_type": "code",
   "execution_count": 8,
   "metadata": {},
   "outputs": [
    {
     "data": {
      "application/vnd.jupyter.widget-view+json": {
       "model_id": "44f74aeee797497ab504a97c43abc4d1",
       "version_major": 2,
       "version_minor": 0
      },
      "text/plain": [
       "VBox(children=(Output(), Output(), IntSlider(value=1, description='Coefficient:', layout=Layout(align_items='s…"
      ]
     },
     "metadata": {},
     "output_type": "display_data"
    }
   ],
   "source": [
    "display(psd.cfs_dsp(acoeff0,atables0,2,5,line_nms0))"
   ]
  },
  {
   "cell_type": "markdown",
   "metadata": {},
   "source": [
    "<h2> Trial Set 2: Varying the number of crossections </h2>"
   ]
  },
  {
   "cell_type": "markdown",
   "metadata": {},
   "source": [
    "<h3> Trial Set 2: Data Loading and Organization </h3> "
   ]
  },
  {
   "cell_type": "code",
   "execution_count": 12,
   "metadata": {
    "collapsed": true
   },
   "outputs": [],
   "source": [
    "inpt_filenames1 = ['pscout_6_12_1220.json' ,'pscout_6_13_1914.json'\n",
    "                   ,'pscout_6_13_1498.json','pscout_6_13_1227.json' ]\n",
    "line_nms1 = ['ncr = 5','ncr = 10', 'ncr = 15', 'ncr = 20']\n",
    "\n",
    "res_out1 = [psd.psc_load(inpt_filenames1[i]) for i in range(len(inpt_filenames1))]\n",
    "estin_dcts1 = [res_out1[i][0] for i in range(len(inpt_filenames1))]\n",
    "dgp_sum_filenames1 = [ estin_dcts1[i]['input_filename'].replace('pscdata','pscsum')\n",
    "                      for i in range(len(inpt_filenames1))]\n",
    "dgp_dicts1 = [psd.pscsum_load(dgp_sum_filenames1[i]) \n",
    "             for i in range(len(dgp_sum_filenames1))]\n",
    "merged_dcts1 = [{**estin_dcts0[i],**dgpin_dcts0[i]} for i in range(len(inpt_filenames0))]\n",
    "dgpin_dcts1 =  [dgp_dicts1[i][0] for i in range(len(inpt_filenames1))]\n",
    "true_bcoeffs1 = [dgp_dicts1[i][1] for i in range(len(inpt_filenames1))]\n",
    "true_acoeffs1 = [dgp_dicts1[i][2] for i in range(len(inpt_filenames1))]\n",
    "bcoeff1  = [res_out1[i][1] for i in range(len(inpt_filenames1))]\n",
    "acoeff1  = [res_out1[i][3] for i in range(len(inpt_filenames1))]\n",
    "btables1 = [res_out1[i][2] for i in range(len(inpt_filenames1))]\n",
    "atables1 = [res_out1[i][4] for i in range(len(inpt_filenames1))]"
   ]
  },
  {
   "cell_type": "markdown",
   "metadata": {},
   "source": [
    "<h3> Trial Set 2: DGP and Estimator Function Input Dictionary Comparison </h3> "
   ]
  },
  {
   "cell_type": "code",
   "execution_count": 13,
   "metadata": {
    "scrolled": false
   },
   "outputs": [
    {
     "data": {
      "application/vnd.jupyter.widget-view+json": {
       "model_id": "b456c7e90ed347d39b73753846d636e0",
       "version_major": 2,
       "version_minor": 0
      },
      "text/plain": [
       "VBox(children=(IntSlider(value=1, description='Results Dataset: ', max=3, min=1, style=SliderStyle(description…"
      ]
     },
     "metadata": {},
     "output_type": "display_data"
    }
   ],
   "source": [
    "psd.indict_dsp(merged_dcts1,1)"
   ]
  },
  {
   "cell_type": "markdown",
   "metadata": {},
   "source": [
    "<h3> Trial Set 2: True Primary Equations Coefficients Comparison </h3>"
   ]
  },
  {
   "cell_type": "code",
   "execution_count": 14,
   "metadata": {
    "scrolled": true
   },
   "outputs": [
    {
     "data": {
      "application/vnd.jupyter.widget-view+json": {
       "model_id": "51061916e27e4021beca5c49f4576782",
       "version_major": 2,
       "version_minor": 0
      },
      "text/plain": [
       "VBox(children=(IntSlider(value=1, description='Results Dataset: ', max=4, min=1, style=SliderStyle(description…"
      ]
     },
     "metadata": {},
     "output_type": "display_data"
    }
   ],
   "source": [
    "psd.indict_dsp(true_bcoeffs1,1)"
   ]
  },
  {
   "cell_type": "markdown",
   "metadata": {},
   "source": [
    "<h3> Trial Set 2: True Secondary Equation Coefficients Comparison </h3> "
   ]
  },
  {
   "cell_type": "code",
   "execution_count": 15,
   "metadata": {
    "scrolled": false
   },
   "outputs": [
    {
     "data": {
      "application/vnd.jupyter.widget-view+json": {
       "model_id": "8d7724adbaa34544b1cc425703316cf7",
       "version_major": 2,
       "version_minor": 0
      },
      "text/plain": [
       "VBox(children=(IntSlider(value=1, description='Equation: ', max=2, min=1, style=SliderStyle(description_width=…"
      ]
     },
     "metadata": {},
     "output_type": "display_data"
    }
   ],
   "source": [
    "psd.indict_dsp(true_acoeffs1,2)"
   ]
  },
  {
   "cell_type": "markdown",
   "metadata": {},
   "source": [
    "<h3> Trial Set 2: Primary Function Coefficient Estimates </h3>"
   ]
  },
  {
   "cell_type": "code",
   "execution_count": 16,
   "metadata": {
    "scrolled": false
   },
   "outputs": [
    {
     "data": {
      "application/vnd.jupyter.widget-view+json": {
       "model_id": "d6f6678decf64b4da6a85a33525b0618",
       "version_major": 2,
       "version_minor": 0
      },
      "text/plain": [
       "VBox(children=(Output(), Output(), IntSlider(value=1, description='Coefficient:', layout=Layout(align_items='s…"
      ]
     },
     "metadata": {},
     "output_type": "display_data"
    }
   ],
   "source": [
    "display(psd.cfs_dsp(bcoeff1,btables1,1,12,line_nms1))"
   ]
  },
  {
   "cell_type": "markdown",
   "metadata": {},
   "source": [
    "<h3> Trial Set 2: Secondary Function Coefficient Estimates </h3>"
   ]
  },
  {
   "cell_type": "code",
   "execution_count": 17,
   "metadata": {},
   "outputs": [
    {
     "data": {
      "application/vnd.jupyter.widget-view+json": {
       "model_id": "1876c73f8a4e4729ac7e3bc159909382",
       "version_major": 2,
       "version_minor": 0
      },
      "text/plain": [
       "VBox(children=(Output(), Output(), IntSlider(value=1, description='Coefficient:', layout=Layout(align_items='s…"
      ]
     },
     "metadata": {},
     "output_type": "display_data"
    }
   ],
   "source": [
    "display(psd.cfs_dsp(acoeff1,atables1,2,8,line_nms1))"
   ]
  }
 ],
 "metadata": {
  "kernelspec": {
   "display_name": "Python 3",
   "language": "python",
   "name": "python3"
  },
  "language_info": {
   "codemirror_mode": {
    "name": "ipython",
    "version": 3
   },
   "file_extension": ".py",
   "mimetype": "text/x-python",
   "name": "python",
   "nbconvert_exporter": "python",
   "pygments_lexer": "ipython3",
   "version": "3.6.4"
  },
  "varInspector": {
   "cols": {
    "lenName": 16,
    "lenType": 16,
    "lenVar": 40
   },
   "kernels_config": {
    "python": {
     "delete_cmd_postfix": "",
     "delete_cmd_prefix": "del ",
     "library": "var_list.py",
     "varRefreshCmd": "print(var_dic_list())"
    },
    "r": {
     "delete_cmd_postfix": ") ",
     "delete_cmd_prefix": "rm(",
     "library": "var_list.r",
     "varRefreshCmd": "cat(var_dic_list()) "
    }
   },
   "types_to_exclude": [
    "module",
    "function",
    "builtin_function_or_method",
    "instance",
    "_Feature"
   ],
   "window_display": false
  }
 },
 "nbformat": 4,
 "nbformat_minor": 2
}
